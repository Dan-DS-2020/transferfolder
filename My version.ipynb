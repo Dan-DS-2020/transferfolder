{
 "cells": [
  {
   "cell_type": "code",
   "execution_count": 1,
   "id": "d2d347e8",
   "metadata": {},
   "outputs": [
    {
     "data": {
      "text/html": [
       "<style>.container { width:90% !important; }</style>"
      ],
      "text/plain": [
       "<IPython.core.display.HTML object>"
      ]
     },
     "metadata": {},
     "output_type": "display_data"
    }
   ],
   "source": [
    "from IPython.core.display import display, HTML\n",
    "display(HTML(\"<style>.container { width:90% !important; }</style>\"))"
   ]
  },
  {
   "cell_type": "code",
   "execution_count": 2,
   "id": "91706763",
   "metadata": {},
   "outputs": [],
   "source": [
    "import pandas as pd\n",
    "from joblib import Parallel, delayed\n",
    "import multiprocessing\n",
    "\n",
    "import numpy as np\n",
    "\n",
    "from dotenv import load_dotenv\n",
    "import os\n",
    "import sqlalchemy\n",
    "from config import *\n",
    "import plotly.graph_objects as go\n",
    "import plotly.express as px\n",
    "from class_lib.feature_minorizer import FeatureMinorizer\n",
    "from class_lib.category_recoverer import CategoryRecoverer\n",
    "from class_lib.extra_feature_gen import ExtraFeatureGenerator"
   ]
  },
  {
   "cell_type": "code",
   "execution_count": 3,
   "id": "cec4fb9f",
   "metadata": {},
   "outputs": [
    {
     "data": {
      "text/html": [
       "        <script type=\"text/javascript\">\n",
       "        window.PlotlyConfig = {MathJaxConfig: 'local'};\n",
       "        if (window.MathJax) {MathJax.Hub.Config({SVG: {font: \"STIX-Web\"}});}\n",
       "        if (typeof require !== 'undefined') {\n",
       "        require.undef(\"plotly\");\n",
       "        requirejs.config({\n",
       "            paths: {\n",
       "                'plotly': ['https://cdn.plot.ly/plotly-2.9.0.min']\n",
       "            }\n",
       "        });\n",
       "        require(['plotly'], function(Plotly) {\n",
       "            window._Plotly = Plotly;\n",
       "        });\n",
       "        }\n",
       "        </script>\n",
       "        "
      ]
     },
     "metadata": {},
     "output_type": "display_data"
    }
   ],
   "source": [
    "ACCOUNT_ID = 47\n",
    "\n",
    "from plotly.offline import init_notebook_mode, iplot\n",
    "\n",
    "init_notebook_mode(connected=True) "
   ]
  },
  {
   "cell_type": "code",
   "execution_count": 4,
   "id": "930e7f9a",
   "metadata": {},
   "outputs": [],
   "source": [
    "events = pd.read_csv(f'{ACCOUNT_ID}/events.csv')\n",
    "events['event_time'] = pd.to_datetime(events['event_time'])\n",
    "sessions = pd.read_csv(f'{ACCOUNT_ID}/sessions.csv')"
   ]
  },
  {
   "cell_type": "markdown",
   "id": "07b083d9",
   "metadata": {},
   "source": [
    "## Preprocessing"
   ]
  },
  {
   "cell_type": "code",
   "execution_count": null,
   "id": "a43e6b11",
   "metadata": {},
   "outputs": [],
   "source": [
    "DOTENV_PATH = './.env'\n",
    "OUTPUT_PATH = 'results/'\n",
    "MODELS_PATH = 'models/'\n",
    "LOGS_PATH = 'logs/'\n",
    "\n",
    "minorisation_THS = 100\n",
    "minorisation_percentage_threshold = .20\n",
    "max_percentage_obs = .005\n",
    "\n",
    "min_samples_leaf_percantage = 0.1\n",
    "\n",
    "#avaliable types = ['ignore', 'mean','quantilies']\n",
    "NAN_AGG_TYPE_AEB = 'ignore'\n",
    "NAN_AGG_TYPE_FS = 'ignore'\n",
    "NAN_AGG_TYPE_CRM = 'ignore'\n",
    "\n",
    "crm_cat_features = ['billing_city',\n",
    "                    'billing_country',\n",
    "                    'shipping_billing_same',\n",
    "                    'lineitem_name',\n",
    "                    'lineitem_category',\n",
    "                    'lineitem_subcategory',\n",
    "                    'is_company',\n",
    "                    'free_shipping',\n",
    "                    'payment_type',\n",
    "                    'time_of_purchase',\n",
    "                    'purchase_day_of_week',\n",
    "                    'age_group',\n",
    "                    'has_discount']\n",
    "\n",
    "crm_float_features = ['age',\n",
    "                      'order_total',\n",
    "                      'items_total']\n",
    "\n",
    "#should not be minirozied due to limited features number\n",
    "ignore_minorization_features = ['seconds_to','channel', 'name']\n",
    "\n",
    "product_matrix_params = {'top_pairs_num': 5, 'categories_for_pairs': False, 'calculate_pairs': False}\n",
    "ltv_m_tree_params = {'criterion': 'variance', 'max_depth': 6, 'min_samples_leaf': 100, 'random_state': 0, 'c': 100000}\n",
    "ltv_tree_params = {'criterion': 'mse', 'max_depth': 5, 'min_samples_leaf': 100, 'random_state': 0}\n",
    "fpv_tree_params = {'criterion': 'mse', 'max_depth': 5, 'min_samples_leaf': 100, 'random_state': 0}\n",
    "aov_tree_params = {'criterion': 'mse', 'max_depth': 5, 'min_samples_leaf': 100, 'random_state': 0}\n",
    "ltv_tree_params_beh = {'criterion': 'mse', 'max_depth': 5, 'min_samples_leaf': 0, 'random_state': 0}\n",
    "spr_tree_params = {'max_depth': 5,'min_samples_leaf': 100, 'random_state': 0}\n",
    "spr_mixed_tree_params = {'max_depth': 5, 'random_state': 0}\n",
    "sao_tree_params = {'max_depth': 5, 'random_state': 0}\n",
    "aeb_atb_tree_params = {'max_depth': 5, 'random_state': 0}\n",
    "fs_ss_tree_params = {'max_depth': 5, 'random_state': 0}\n",
    "fs_atb_tree_params = {'max_depth': 5, 'random_state': 0}"
   ]
  },
  {
   "cell_type": "code",
   "execution_count": null,
   "id": "c7dffb26",
   "metadata": {},
   "outputs": [],
   "source": [
    "def applyParallel(dfGrouped, func, *kwards):\n",
    "    Parallel(n_jobs=multiprocessing.cpu_count())(delayed(func)(group,*kwards) for name, group in dfGrouped)\n",
    "    return pd.concat(retLst)"
   ]
  },
  {
   "cell_type": "code",
   "execution_count": null,
   "id": "1637b5e0",
   "metadata": {},
   "outputs": [],
   "source": [
    "events[events.url.str.contains('https://danija.lt/greitas-uzsakymas')].head()"
   ]
  },
  {
   "cell_type": "code",
   "execution_count": null,
   "id": "56e81e04",
   "metadata": {},
   "outputs": [],
   "source": [
    "from itertools import tee\n",
    "def pairwise(iterable):\n",
    "    a, b = tee(iterable)\n",
    "    next(b, None)\n",
    "    return zip(a, b)\n",
    "\n",
    "def add_to_global_data(data, source_targer_key):\n",
    "    if data.get(source_targer_key,None):\n",
    "        data[source_targer_key] +=1\n",
    "    else:\n",
    "        data[source_targer_key] = 1\n",
    "\n",
    "def unfold_dict_to_dataframe(global_data):\n",
    "    source = []\n",
    "    target = []\n",
    "    engagments = []\n",
    "    for key,value in global_data.items():\n",
    "        temp = key.split('=>')\n",
    "        source.append(temp[0])\n",
    "        target.append(temp[1])\n",
    "        engagments.append(value)\n",
    "    return pd.DataFrame(data = {'source' : source, 'target' : target, 'engagments' : engagments})\n",
    "\n",
    "from __future__ import division\n",
    "\n",
    "def rescale(values, new_min = 0, new_max = 100):\n",
    "    output = []\n",
    "    old_min, old_max = min(values), max(values)\n",
    "\n",
    "    for v in values:\n",
    "        new_v = (new_max - new_min) / (old_max - old_min) * (v - old_min) + new_min\n",
    "        output.append(new_v)\n",
    "\n",
    "    return output\n",
    "\n",
    "def unfold_dict_to_dataframe_multiplt(global_data):\n",
    "    source = []\n",
    "    target = []\n",
    "    count = []\n",
    "    atb = []\n",
    "    for key,value in global_data.items():\n",
    "        temp = key.split('=>')\n",
    "        source.append(temp[0])\n",
    "        target.append(temp[1])\n",
    "        count.append(value['count'])\n",
    "        atb.append(value['atb'])\n",
    "    return pd.DataFrame(data = {'source' : source, 'target' : target, 'count' : count,'atb' : atb})\n",
    "\n",
    "class AutoId:\n",
    "    def __init__(self, **kwargs):\n",
    "        self.di = kwargs.get(\"di\", {})\n",
    "        self.loc = 0\n",
    "    def get(self, value):\n",
    "        if value not in self.di:\n",
    "            self.di[value] = self.loc\n",
    "            self.loc += 1\n",
    "        return self.di[value]\n",
    "    def get_list(self, li):\n",
    "        return [*map(self.get, li)]\n",
    "    def set_list(self,li):\n",
    "        [*map(self.get, li)]\n",
    "        \n",
    "def make_node_data(data_plot, all_values_encoded):\n",
    "    in_f = []\n",
    "    out_f = []\n",
    "    in_f_v = []\n",
    "    out_f_v = []\n",
    "    for i in all_values:\n",
    "        in_f.append(f'<br />incoming : {data_plot[data_plot.target == i].shape[0]}')\n",
    "        out_f.append(f'<br />outcomming : {data_plot[data_plot.source == i].shape[0]}')\n",
    "        in_f_v.append(f'<br />incoming_v : {data_plot[data_plot.target == i].engagments.sum()}')\n",
    "        out_f_v.append(f'<br />outcomming_v : {data_plot[data_plot.source == i].engagments.sum()}')\n",
    "    return pd.DataFrame(\n",
    "        data = {\n",
    "            'customdata' : all_values,\n",
    "            'in_f' : in_f,\n",
    "            \"out_f\" : out_f,\n",
    "            \"in_f_v\": in_f_v,\n",
    "            \"out_f_v\": out_f_v,        \n",
    "            }\n",
    "        )\n",
    "\n",
    "def make_node_data_m(data_plot, all_values_encoded):\n",
    "    in_f = []\n",
    "    out_f = []\n",
    "    in_f_v = []\n",
    "    out_f_v = []\n",
    "    for i in all_values:\n",
    "        in_f.append(f'<br />incoming : {data_plot[data_plot.target == i].shape[0]}')\n",
    "        out_f.append(f'<br />outcomming : {data_plot[data_plot.source == i].shape[0]}')\n",
    "        in_f_v.append(f'<br />incoming_v : {data_plot[data_plot.target == i][\"count\"].sum()}')\n",
    "        out_f_v.append(f'<br />outcomming_v : {data_plot[data_plot.source == i][\"count\"].sum()}')\n",
    "    return pd.DataFrame(\n",
    "        data = {\n",
    "            'customdata' : all_values,\n",
    "            'in_f' : in_f,\n",
    "            \"out_f\" : out_f,\n",
    "            \"in_f_v\": in_f_v,\n",
    "            \"out_f_v\": out_f_v,        \n",
    "            }\n",
    "        )\n",
    "\n",
    "def split(a, t):\n",
    "    k, m = divmod(len(a), t)\n",
    "    return (a[i*k+min(i, m):(i+1)*k+min(i+1, m)] for i in range(t))\n",
    "\n",
    "def make_text(data,num = 2,prefix = None):\n",
    "    text = ''\n",
    "    data['c_c'] = data['customdata'].apply(lambda x : x.split(prefix)[-1])\n",
    "    items = (data.index.astype('str') +\". \" + data['c_c']).values\n",
    "    splits = list(split(items, num))\n",
    "    lens = [len((max(i, key=len))) for i in list(splits)]\n",
    "    for row in zip(*splits):\n",
    "        temp = ''\n",
    "        for i,v in enumerate(row):\n",
    "            if i == 0:\n",
    "                temp = v\n",
    "            else:\n",
    "                temp+= (\" \" * lens[i-1])[len(row[i-1]):] + v\n",
    "            \n",
    "        text+=temp +'<br>'\n",
    "    return text"
   ]
  },
  {
   "cell_type": "code",
   "execution_count": null,
   "id": "211bced1",
   "metadata": {},
   "outputs": [],
   "source": [
    "guests_with_atb = events.groupby('session_id').apply(lambda x : x if 'add_to_basket' in x['name'].unique() else None)\n",
    "guests_with_atb = guests_with_atb[guests_with_atb['guest_id'].notnull()]\n",
    "guests_with_atb = guests_with_atb[guests_with_atb['referer'] != 'NaN']\n",
    "guests_with_atb = guests_with_atb[guests_with_atb['url'].notnull()]"
   ]
  },
  {
   "cell_type": "code",
   "execution_count": null,
   "id": "a95cf491",
   "metadata": {},
   "outputs": [],
   "source": [
    "page_atb_events = events[events['name'].isin(['add_to_basket','page_view'])]"
   ]
  },
  {
   "cell_type": "code",
   "execution_count": null,
   "id": "6abfb4af",
   "metadata": {},
   "outputs": [],
   "source": [
    "print(guests_with_atb.iloc[0:5])"
   ]
  },
  {
   "cell_type": "code",
   "execution_count": null,
   "id": "2d4efdb0",
   "metadata": {},
   "outputs": [],
   "source": [
    "urls_with_atb = []\n",
    "for url in events[events.name =='add_to_basket'].url.unique()[:100]:\n",
    "    temp = events[events.url == url]\n",
    "    counts = temp['name'].value_counts()\n",
    "    if counts['add_to_basket'] > 3:\n",
    "        urls_with_atb.append(url)"
   ]
  },
  {
   "cell_type": "code",
   "execution_count": null,
   "id": "94059490",
   "metadata": {},
   "outputs": [],
   "source": [
    "print(urls_with_atb[:5])"
   ]
  },
  {
   "cell_type": "code",
   "execution_count": null,
   "id": "e7cfbe1d",
   "metadata": {},
   "outputs": [],
   "source": [
    "base_url = 'https://danija.lt/greitas-uzsakymas'\n",
    "based_events = events[events.url.str.contains(base_url)]"
   ]
  },
  {
   "cell_type": "code",
   "execution_count": null,
   "id": "aeaef00a",
   "metadata": {},
   "outputs": [],
   "source": [
    "print(based_events.head())"
   ]
  },
  {
   "cell_type": "code",
   "execution_count": null,
   "id": "86843fc2",
   "metadata": {},
   "outputs": [],
   "source": [
    "import json\n",
    "import ast"
   ]
  },
  {
   "cell_type": "code",
   "execution_count": null,
   "id": "cb45a95c",
   "metadata": {},
   "outputs": [],
   "source": [
    "test_dict = json.loads('{\"Nikhil\" : 1, \"Akshat\" : 2, \"Akash\" : 3}')\n",
    "type(test_dict)"
   ]
  },
  {
   "cell_type": "code",
   "execution_count": null,
   "id": "3a2cb857",
   "metadata": {},
   "outputs": [],
   "source": [
    "based_events['event_data'] = based_events['event_data'].apply(ast.literal_eval)\n",
    "for item in ['name', 'innerText','id','url']:\n",
    "    based_events[f'event_data_{item}'] = based_events['event_data'].apply(lambda x : x.get(item,float('NaN')) if x.get(item,float('NaN')) != '' else float('NaN'))"
   ]
  },
  {
   "cell_type": "code",
   "execution_count": null,
   "id": "4af4ffdc",
   "metadata": {},
   "outputs": [],
   "source": [
    "based_events = based_events[~based_events.name.str.contains('scroll')]\n",
    "based_events = based_events[~based_events.name.str.contains('go_to_checkout')]"
   ]
  },
  {
   "cell_type": "code",
   "execution_count": null,
   "id": "ea26f19d",
   "metadata": {},
   "outputs": [],
   "source": [
    "normalized = pd.json_normalize(based_events['event_data'])"
   ]
  },
  {
   "cell_type": "code",
   "execution_count": null,
   "id": "50495b53",
   "metadata": {},
   "outputs": [],
   "source": [
    "based_events.shape, normalized.shape"
   ]
  },
  {
   "cell_type": "code",
   "execution_count": null,
   "id": "e0795c4e",
   "metadata": {},
   "outputs": [],
   "source": [
    "atb_eventsbased_events = pd.concat([based_events, normalized.reindex(based_events.index)],axis=1)\n",
    "based_events.event_data_name.value_counts()"
   ]
  },
  {
   "cell_type": "code",
   "execution_count": null,
   "id": "1f5c277f",
   "metadata": {},
   "outputs": [],
   "source": [
    "based_events.event_data_innerText.value_counts()"
   ]
  },
  {
   "cell_type": "code",
   "execution_count": null,
   "id": "f729c99d",
   "metadata": {},
   "outputs": [],
   "source": [
    "based_events.referer.value_counts()"
   ]
  },
  {
   "cell_type": "code",
   "execution_count": null,
   "id": "20d487a8",
   "metadata": {
    "scrolled": true
   },
   "outputs": [],
   "source": [
    "a = 'https://danija.lt/prekes/6753-balti-odiniai-moteriski-bateliai.html?fbclid=IwAR34bsnMzWH5Db9R6oq5U6ruqoS8BwKAyz5dmj5pwHrPXOcVTjSTFjkLVxU'\n",
    "print(a if '?' not in a else '?'.join(a.split('?')[:-1]))"
   ]
  },
  {
   "cell_type": "code",
   "execution_count": null,
   "id": "6f0e6a5c",
   "metadata": {
    "scrolled": true
   },
   "outputs": [],
   "source": [
    "b = 'https://danija.lt/prekes/6753-balti-odiniai-moteriski-bateliai.html?fbclid=IwAR34bsnMzWH5Db9R6oq5U6ruqoS8BwKAyz5dmj5pwHrPXOcVTjSTFjkLVxU'\n",
    "print('/'.join(b.split('/')[:-1]))"
   ]
  },
  {
   "cell_type": "code",
   "execution_count": null,
   "id": "703c20a4",
   "metadata": {},
   "outputs": [],
   "source": [
    "c = 'https://danija.lt/prekes/6753-balti-odiniai-moteriski-bateliai.html?fbclid=IwAR34bsnMzWH5Db9R6oq5U6ruqoS8BwKAyz5dmj5pwHrPXOcVTjSTFjkLVxU'\n",
    "print('.html'.join(c.split('.html')[:-1]))"
   ]
  },
  {
   "cell_type": "code",
   "execution_count": null,
   "id": "1f821f6a",
   "metadata": {},
   "outputs": [],
   "source": [
    "to_minorize = based_events.copy()\n",
    "based_events = to_minorize.copy()\n",
    "# ?"
   ]
  },
  {
   "cell_type": "code",
   "execution_count": null,
   "id": "cd8596c6",
   "metadata": {},
   "outputs": [],
   "source": [
    "based_events['event_data_innerText']"
   ]
  },
  {
   "cell_type": "code",
   "execution_count": null,
   "id": "dd735b1f",
   "metadata": {},
   "outputs": [],
   "source": [
    "based_events['event_data_name'] = based_events['event_data_name'] +'_'+ based_events['event_data_innerText']"
   ]
  },
  {
   "cell_type": "code",
   "execution_count": null,
   "id": "e7055b86",
   "metadata": {},
   "outputs": [],
   "source": [
    "cat_features = ['referer','event_data_innerText','event_data_name','event_data_url']"
   ]
  },
  {
   "cell_type": "code",
   "execution_count": null,
   "id": "5e0c0139",
   "metadata": {},
   "outputs": [],
   "source": [
    "minorizer_features = FeatureMinorizer(0.1, 0.001)\n",
    "\n",
    "based_events = minorizer_features.inplace_minorization(based_events, cat_features, [])"
   ]
  },
  {
   "cell_type": "code",
   "execution_count": null,
   "id": "400701b6",
   "metadata": {},
   "outputs": [],
   "source": [
    "based_events = minorizer_features.minorise_feature(based_events, 'event_data_url', 100)\n",
    "based_events = minorizer_features.minorise_feature(based_events, 'event_data_name', 1000)"
   ]
  },
  {
   "cell_type": "code",
   "execution_count": null,
   "id": "7ba4825f",
   "metadata": {},
   "outputs": [],
   "source": [
    "based_events.event_data_url.apply(lambda x: str(x)).value_counts()"
   ]
  },
  {
   "cell_type": "code",
   "execution_count": null,
   "id": "ffa7bee8",
   "metadata": {},
   "outputs": [],
   "source": [
    "based_events.event_data_name.value_counts()"
   ]
  },
  {
   "cell_type": "code",
   "execution_count": null,
   "id": "795b2432",
   "metadata": {},
   "outputs": [],
   "source": [
    "for f in cat_features:\n",
    "    based_events[f] = based_events[f].fillna('')"
   ]
  },
  {
   "cell_type": "code",
   "execution_count": null,
   "id": "1ace23a8",
   "metadata": {},
   "outputs": [],
   "source": [
    "for f in cat_features:\n",
    "    based_events[f] = based_events[f].replace({'Other' : ''})"
   ]
  },
  {
   "cell_type": "code",
   "execution_count": null,
   "id": "b3371396",
   "metadata": {},
   "outputs": [],
   "source": [
    "based_events.referer = based_events.referer.replace({'':'Other'})"
   ]
  },
  {
   "cell_type": "markdown",
   "id": "e038400e",
   "metadata": {},
   "source": [
    "----------------"
   ]
  },
  {
   "cell_type": "markdown",
   "id": "2d82a72e",
   "metadata": {},
   "source": [
    "## My log compilation"
   ]
  },
  {
   "cell_type": "code",
   "execution_count": null,
   "id": "725d6473",
   "metadata": {},
   "outputs": [],
   "source": [
    "events = pd.read_csv('events_adds.csv').drop('Unnamed: 0', axis=1)"
   ]
  },
  {
   "cell_type": "code",
   "execution_count": null,
   "id": "61ab6928",
   "metadata": {},
   "outputs": [],
   "source": [
    "events.info()"
   ]
  },
  {
   "cell_type": "code",
   "execution_count": 9,
   "id": "376f2dd3",
   "metadata": {},
   "outputs": [],
   "source": [
    "from datetime import datetime, timedelta\n",
    "import tqdm"
   ]
  },
  {
   "cell_type": "code",
   "execution_count": null,
   "id": "a2400223",
   "metadata": {},
   "outputs": [],
   "source": [
    "def pseudo_event(data):\n",
    "    session = 0\n",
    "    adds = pd.DataFrame()\n",
    "    pbar = tqdm.tqdm(total=len(data.index))\n",
    "    \n",
    "    for index, row in data.iterrows():\n",
    "        if row['session_id'] != session:\n",
    "            row['url'] = row['channel']\n",
    "            row['event_time'] = row['event_time'] - timedelta(milliseconds=1)\n",
    "            adds = adds.append(row)\n",
    "            session = row['session_id']\n",
    "        pbar.update(1)\n",
    "    \n",
    "    pbar.close()\n",
    "    return adds"
   ]
  },
  {
   "cell_type": "code",
   "execution_count": null,
   "id": "e3858037",
   "metadata": {},
   "outputs": [],
   "source": [
    "def post_event(data):\n",
    "    check = ['Direct', 'Organic Search', 'Social', 'Paid Search', 'Email']\n",
    "    session = 0\n",
    "    atb = pd.DataFrame()\n",
    "    atb_sessions = list()\n",
    "    natb = pd.DataFrame()\n",
    "    pbar = tqdm.tqdm(total=len(data.index))\n",
    "    trigger = 0\n",
    "    \n",
    "    for index, row in data[::-1].iterrows():\n",
    "        if row['url'] in check:\n",
    "            row['concept:name'] = row['url']\n",
    "        if row['session_id'] != session:\n",
    "            session = row['session_id']\n",
    "            trigger = 0\n",
    "        if row['concept:name'] == 'add_to_basket':\n",
    "            trigger = 1\n",
    "            atb_sessions.append(session)\n",
    "        if trigger == 1:\n",
    "            atb = atb.append(row)\n",
    "        else:\n",
    "            natb = natb.append(row)\n",
    "        \n",
    "        pbar.update(1)\n",
    "    \n",
    "    pbar.close()\n",
    "    return atb, atb_sessions, natb"
   ]
  },
  {
   "cell_type": "code",
   "execution_count": null,
   "id": "f2d6fbb2",
   "metadata": {
    "scrolled": false
   },
   "outputs": [],
   "source": [
    "atb, atb_sessions, natb = post_event(events)"
   ]
  },
  {
   "cell_type": "code",
   "execution_count": 50,
   "id": "36e7186a",
   "metadata": {},
   "outputs": [],
   "source": [
    "atb.to_csv('atb.csv')\n",
    "natb.to_csv('natb.csv')"
   ]
  },
  {
   "cell_type": "code",
   "execution_count": null,
   "id": "be60cf7b",
   "metadata": {},
   "outputs": [],
   "source": [
    "with open('atb_sessions.txt', 'w') as f:\n",
    "    for item in atb_sessions:\n",
    "        f.write(\"%s\\n\" % item)"
   ]
  },
  {
   "cell_type": "code",
   "execution_count": null,
   "id": "9942cd4a",
   "metadata": {},
   "outputs": [],
   "source": [
    "atb[atb['session_id'] == 26442759]"
   ]
  },
  {
   "cell_type": "code",
   "execution_count": null,
   "id": "06b5aa34",
   "metadata": {},
   "outputs": [],
   "source": [
    "def clear_atb(data):\n",
    "    #pbar = tqdm.tqdm(total=len(data.index))\n",
    "    check = ['Direct', 'Organic Search', 'Social', 'Paid Search', 'Email']\n",
    "    data_1 = pd.DataFrame()\n",
    "    \n",
    "    for index, row in data.iterrows():\n",
    "        if row['url'] in check:\n",
    "            row['concept:name'] = row['url']\n",
    "        data_1 = data_1.append(row)\n",
    "        #pbar.update(1)\n",
    "        \n",
    "    #pbar.close()\n",
    "    return data_1"
   ]
  },
  {
   "cell_type": "code",
   "execution_count": null,
   "id": "935507d0",
   "metadata": {
    "scrolled": true
   },
   "outputs": [],
   "source": [
    "# one = events.loc[events['session_id'] == 24105616].head().reset_index(drop=True)\n",
    "events_fatb = events[events['concept:name'] == 'add_to_basket']\n",
    "events_fatb = clear_atb(events_fatb)"
   ]
  },
  {
   "cell_type": "code",
   "execution_count": null,
   "id": "e715c1eb",
   "metadata": {},
   "outputs": [],
   "source": [
    "events = natb"
   ]
  },
  {
   "cell_type": "code",
   "execution_count": null,
   "id": "276a7d02",
   "metadata": {},
   "outputs": [],
   "source": [
    "events = events[events['session_id'].isin(atb_sessions) == False]"
   ]
  },
  {
   "cell_type": "code",
   "execution_count": null,
   "id": "7194abb7",
   "metadata": {},
   "outputs": [],
   "source": [
    "len(events['session_id'].unique())"
   ]
  },
  {
   "cell_type": "code",
   "execution_count": null,
   "id": "4c2487dd",
   "metadata": {},
   "outputs": [],
   "source": [
    "# test_events = events.loc[events['session_id'] == 26442748]\n",
    "adds = pseudo_event(events)"
   ]
  },
  {
   "cell_type": "code",
   "execution_count": null,
   "id": "5a3c1d7d",
   "metadata": {},
   "outputs": [],
   "source": [
    "adds.to_csv('adds.csv')"
   ]
  },
  {
   "cell_type": "code",
   "execution_count": null,
   "id": "e140f9a9",
   "metadata": {},
   "outputs": [],
   "source": [
    "adds = pd.read_csv('adds.csv').drop('Unnamed: 0', axis=1)#.reset_index(drop=True)\n",
    "adds.session_id = adds.session_id.astype(int)"
   ]
  },
  {
   "cell_type": "code",
   "execution_count": null,
   "id": "b2004e28",
   "metadata": {},
   "outputs": [],
   "source": [
    "adds.head()"
   ]
  },
  {
   "cell_type": "code",
   "execution_count": null,
   "id": "1d68a7d0",
   "metadata": {},
   "outputs": [],
   "source": [
    "len(adds)"
   ]
  },
  {
   "cell_type": "markdown",
   "id": "bd12fcd2",
   "metadata": {},
   "source": [
    "------------------------"
   ]
  },
  {
   "cell_type": "code",
   "execution_count": 6,
   "id": "bee0df20",
   "metadata": {},
   "outputs": [],
   "source": [
    "atb = pd.read_csv('atb.csv').drop('Unnamed: 0', axis=1)#.reset_index(drop=True)\n",
    "atb.session_id = atb.session_id.astype(int)\n",
    "natb = pd.read_csv('natb.csv').drop('Unnamed: 0', axis=1)#.reset_index(drop=True)\n",
    "natb.session_id = natb.session_id.astype(int)"
   ]
  },
  {
   "cell_type": "code",
   "execution_count": 10,
   "id": "5f816f86",
   "metadata": {},
   "outputs": [],
   "source": [
    "def post_event(data):\n",
    "    session = 0\n",
    "    adds = pd.DataFrame()\n",
    "    pbar = tqdm.tqdm(total=len(natb.index))\n",
    "    \n",
    "    for index, row in data[::-1].iterrows():\n",
    "        if row['session_id'] != session:\n",
    "            row = row\n",
    "            row['url'] = 'not_atb'\n",
    "            row['concept:name'] = 'not_atb'\n",
    "            row['event_time'] = row['event_time'] + timedelta(milliseconds=1)\n",
    "            #adds = pd.concat([adds, row], ignore_index=True)\n",
    "            adds = adds.append(row)\n",
    "            session = row['session_id']\n",
    "        pbar.update(1)\n",
    "    \n",
    "    pbar.close()\n",
    "    return adds"
   ]
  },
  {
   "cell_type": "code",
   "execution_count": 6,
   "id": "f2ad7f1e",
   "metadata": {},
   "outputs": [],
   "source": [
    "natb['event_time'] = pd.to_datetime(natb['event_time'])"
   ]
  },
  {
   "cell_type": "code",
   "execution_count": 7,
   "id": "660b75fa",
   "metadata": {},
   "outputs": [
    {
     "name": "stdout",
     "output_type": "stream",
     "text": [
      "<class 'pandas.core.frame.DataFrame'>\n",
      "RangeIndex: 447734 entries, 0 to 447733\n",
      "Data columns (total 10 columns):\n",
      " #   Column        Non-Null Count   Dtype         \n",
      "---  ------        --------------   -----         \n",
      " 0   session_id    447734 non-null  int64         \n",
      " 1   guest_id      447734 non-null  object        \n",
      " 2   channel       447734 non-null  object        \n",
      " 3   event_time    447734 non-null  datetime64[ns]\n",
      " 4   created       447734 non-null  object        \n",
      " 5   referer       447734 non-null  object        \n",
      " 6   url           447734 non-null  object        \n",
      " 7   name          447734 non-null  object        \n",
      " 8   event_data    447734 non-null  object        \n",
      " 9   concept:name  447734 non-null  object        \n",
      "dtypes: datetime64[ns](1), int64(1), object(8)\n",
      "memory usage: 34.2+ MB\n"
     ]
    }
   ],
   "source": [
    "natb.info()"
   ]
  },
  {
   "cell_type": "code",
   "execution_count": 11,
   "id": "08c1cd2f",
   "metadata": {},
   "outputs": [
    {
     "name": "stderr",
     "output_type": "stream",
     "text": [
      "100%|██████████████████████████████████| 447734/447734 [23:05<00:00, 323.18it/s]\n"
     ]
    }
   ],
   "source": [
    "import warnings\n",
    "warnings.filterwarnings(\"ignore\")\n",
    "\n",
    "not_atb_events = post_event(natb)"
   ]
  },
  {
   "cell_type": "code",
   "execution_count": 12,
   "id": "69b42a22",
   "metadata": {},
   "outputs": [
    {
     "data": {
      "text/html": [
       "<div>\n",
       "<style scoped>\n",
       "    .dataframe tbody tr th:only-of-type {\n",
       "        vertical-align: middle;\n",
       "    }\n",
       "\n",
       "    .dataframe tbody tr th {\n",
       "        vertical-align: top;\n",
       "    }\n",
       "\n",
       "    .dataframe thead th {\n",
       "        text-align: right;\n",
       "    }\n",
       "</style>\n",
       "<table border=\"1\" class=\"dataframe\">\n",
       "  <thead>\n",
       "    <tr style=\"text-align: right;\">\n",
       "      <th></th>\n",
       "      <th>session_id</th>\n",
       "      <th>guest_id</th>\n",
       "      <th>channel</th>\n",
       "      <th>event_time</th>\n",
       "      <th>created</th>\n",
       "      <th>referer</th>\n",
       "      <th>url</th>\n",
       "      <th>name</th>\n",
       "      <th>event_data</th>\n",
       "      <th>concept:name</th>\n",
       "    </tr>\n",
       "  </thead>\n",
       "  <tbody>\n",
       "    <tr>\n",
       "      <th>447733</th>\n",
       "      <td>26447829</td>\n",
       "      <td>vf-1637002622779-vJCJAJ4Sx1KcmKUvuWrcH</td>\n",
       "      <td>Organic Search</td>\n",
       "      <td>2022-02-16 09:05:04.700</td>\n",
       "      <td>2022-02-16 09:05:41.132870+00:00</td>\n",
       "      <td>https://www.google.com/</td>\n",
       "      <td>not_atb</td>\n",
       "      <td>document_mouse_enter</td>\n",
       "      <td>{}</td>\n",
       "      <td>not_atb</td>\n",
       "    </tr>\n",
       "    <tr>\n",
       "      <th>447729</th>\n",
       "      <td>26447828</td>\n",
       "      <td>vf-1628429599182-ORVa8y7mP9ec3htapcH4o</td>\n",
       "      <td>Referral</td>\n",
       "      <td>2022-02-16 09:04:28.727</td>\n",
       "      <td>2022-02-16 09:05:41.132870+00:00</td>\n",
       "      <td>https://m.delfi.lt/</td>\n",
       "      <td>not_atb</td>\n",
       "      <td>scroll_50</td>\n",
       "      <td>{}</td>\n",
       "      <td>not_atb</td>\n",
       "    </tr>\n",
       "    <tr>\n",
       "      <th>447726</th>\n",
       "      <td>26447827</td>\n",
       "      <td>vf-1628479739734-di5HALPtfftbz2QPOnoO0</td>\n",
       "      <td>Organic Search</td>\n",
       "      <td>2022-02-16 09:02:04.910</td>\n",
       "      <td>2022-02-16 09:05:41.132870+00:00</td>\n",
       "      <td>https://www.google.com/</td>\n",
       "      <td>not_atb</td>\n",
       "      <td>scroll_50</td>\n",
       "      <td>{}</td>\n",
       "      <td>not_atb</td>\n",
       "    </tr>\n",
       "    <tr>\n",
       "      <th>447723</th>\n",
       "      <td>26447826</td>\n",
       "      <td>vf-1629877284653-17z8xTZUkNnb3ByXio3Sf</td>\n",
       "      <td>Direct</td>\n",
       "      <td>2022-02-16 09:02:07.917</td>\n",
       "      <td>2022-02-16 09:05:41.132870+00:00</td>\n",
       "      <td>https://danija.lt/</td>\n",
       "      <td>not_atb</td>\n",
       "      <td>scroll_100</td>\n",
       "      <td>{}</td>\n",
       "      <td>not_atb</td>\n",
       "    </tr>\n",
       "    <tr>\n",
       "      <th>447719</th>\n",
       "      <td>26447825</td>\n",
       "      <td>vf-1644953608775-JB91BQB5VKJgLikugvu-_</td>\n",
       "      <td>Social</td>\n",
       "      <td>2022-02-16 09:00:28.129</td>\n",
       "      <td>2022-02-16 09:05:41.132870+00:00</td>\n",
       "      <td>https://lm.facebook.com/</td>\n",
       "      <td>not_atb</td>\n",
       "      <td>document_mouse_enter</td>\n",
       "      <td>{}</td>\n",
       "      <td>not_atb</td>\n",
       "    </tr>\n",
       "  </tbody>\n",
       "</table>\n",
       "</div>"
      ],
      "text/plain": [
       "        session_id                                guest_id         channel  \\\n",
       "447733    26447829  vf-1637002622779-vJCJAJ4Sx1KcmKUvuWrcH  Organic Search   \n",
       "447729    26447828  vf-1628429599182-ORVa8y7mP9ec3htapcH4o        Referral   \n",
       "447726    26447827  vf-1628479739734-di5HALPtfftbz2QPOnoO0  Organic Search   \n",
       "447723    26447826  vf-1629877284653-17z8xTZUkNnb3ByXio3Sf          Direct   \n",
       "447719    26447825  vf-1644953608775-JB91BQB5VKJgLikugvu-_          Social   \n",
       "\n",
       "                    event_time                           created  \\\n",
       "447733 2022-02-16 09:05:04.700  2022-02-16 09:05:41.132870+00:00   \n",
       "447729 2022-02-16 09:04:28.727  2022-02-16 09:05:41.132870+00:00   \n",
       "447726 2022-02-16 09:02:04.910  2022-02-16 09:05:41.132870+00:00   \n",
       "447723 2022-02-16 09:02:07.917  2022-02-16 09:05:41.132870+00:00   \n",
       "447719 2022-02-16 09:00:28.129  2022-02-16 09:05:41.132870+00:00   \n",
       "\n",
       "                         referer      url                  name event_data  \\\n",
       "447733   https://www.google.com/  not_atb  document_mouse_enter         {}   \n",
       "447729       https://m.delfi.lt/  not_atb             scroll_50         {}   \n",
       "447726   https://www.google.com/  not_atb             scroll_50         {}   \n",
       "447723        https://danija.lt/  not_atb            scroll_100         {}   \n",
       "447719  https://lm.facebook.com/  not_atb  document_mouse_enter         {}   \n",
       "\n",
       "       concept:name  \n",
       "447733      not_atb  \n",
       "447729      not_atb  \n",
       "447726      not_atb  \n",
       "447723      not_atb  \n",
       "447719      not_atb  "
      ]
     },
     "execution_count": 12,
     "metadata": {},
     "output_type": "execute_result"
    }
   ],
   "source": [
    "not_atb_events.head()"
   ]
  },
  {
   "cell_type": "code",
   "execution_count": 13,
   "id": "0121fb47",
   "metadata": {},
   "outputs": [],
   "source": [
    "natb = pd.concat([natb,not_atb_events], ignore_index=True)"
   ]
  },
  {
   "cell_type": "code",
   "execution_count": 14,
   "id": "eae458b4",
   "metadata": {},
   "outputs": [
    {
     "data": {
      "text/plain": [
       "80136"
      ]
     },
     "execution_count": 14,
     "metadata": {},
     "output_type": "execute_result"
    }
   ],
   "source": [
    "len(natb['session_id'].unique())"
   ]
  },
  {
   "cell_type": "code",
   "execution_count": 15,
   "id": "5539251f",
   "metadata": {},
   "outputs": [],
   "source": [
    "atb = atb.sort_values(['session_id', 'event_time']).reset_index(drop=True)\n",
    "natb = natb.sort_values(['session_id', 'event_time']).reset_index(drop=True)"
   ]
  },
  {
   "cell_type": "code",
   "execution_count": 49,
   "id": "1e173d6d",
   "metadata": {},
   "outputs": [
    {
     "data": {
      "text/html": [
       "<div>\n",
       "<style scoped>\n",
       "    .dataframe tbody tr th:only-of-type {\n",
       "        vertical-align: middle;\n",
       "    }\n",
       "\n",
       "    .dataframe tbody tr th {\n",
       "        vertical-align: top;\n",
       "    }\n",
       "\n",
       "    .dataframe thead th {\n",
       "        text-align: right;\n",
       "    }\n",
       "</style>\n",
       "<table border=\"1\" class=\"dataframe\">\n",
       "  <thead>\n",
       "    <tr style=\"text-align: right;\">\n",
       "      <th></th>\n",
       "      <th>session_id</th>\n",
       "      <th>guest_id</th>\n",
       "      <th>channel</th>\n",
       "      <th>event_time</th>\n",
       "      <th>created</th>\n",
       "      <th>referer</th>\n",
       "      <th>url</th>\n",
       "      <th>name</th>\n",
       "      <th>event_data</th>\n",
       "      <th>concept:name</th>\n",
       "    </tr>\n",
       "  </thead>\n",
       "  <tbody>\n",
       "    <tr>\n",
       "      <th>0</th>\n",
       "      <td>9767</td>\n",
       "      <td>vf-1626768085374-EUaspMG7BI_IqpqIQDd9c</td>\n",
       "      <td>Social</td>\n",
       "      <td>2022-02-12 08:03:55.138</td>\n",
       "      <td>2022-02-12 08:14:41.220319+00:00</td>\n",
       "      <td>http://m.facebook.com/</td>\n",
       "      <td>Social</td>\n",
       "      <td>page_view</td>\n",
       "      <td>{}</td>\n",
       "      <td>Social</td>\n",
       "    </tr>\n",
       "    <tr>\n",
       "      <th>1</th>\n",
       "      <td>9767</td>\n",
       "      <td>vf-1626768085374-EUaspMG7BI_IqpqIQDd9c</td>\n",
       "      <td>Social</td>\n",
       "      <td>2022-02-12 08:03:55.139</td>\n",
       "      <td>2022-02-12 08:14:41.220319+00:00</td>\n",
       "      <td>http://m.facebook.com/</td>\n",
       "      <td>https://danija.lt/prekes/6790-juodos-odines-mo...</td>\n",
       "      <td>page_view</td>\n",
       "      <td>{}</td>\n",
       "      <td>Other</td>\n",
       "    </tr>\n",
       "    <tr>\n",
       "      <th>2</th>\n",
       "      <td>9767</td>\n",
       "      <td>vf-1626768085374-EUaspMG7BI_IqpqIQDd9c</td>\n",
       "      <td>Social</td>\n",
       "      <td>2022-02-12 08:03:55.140</td>\n",
       "      <td>2022-02-12 08:14:41.220319+00:00</td>\n",
       "      <td>http://m.facebook.com/</td>\n",
       "      <td>not_atb</td>\n",
       "      <td>page_view</td>\n",
       "      <td>{}</td>\n",
       "      <td>not_atb</td>\n",
       "    </tr>\n",
       "    <tr>\n",
       "      <th>3</th>\n",
       "      <td>24306</td>\n",
       "      <td>vf-1627767297699-yNpVvGTH6cdqOYyVocAu3</td>\n",
       "      <td>Direct</td>\n",
       "      <td>2022-02-11 15:59:16.578</td>\n",
       "      <td>2022-02-11 16:41:45.242179+00:00</td>\n",
       "      <td>https://danija.lt/prekes/6624-juodi-odiniai-mo...</td>\n",
       "      <td>Direct</td>\n",
       "      <td>document_mouse_enter</td>\n",
       "      <td>{}</td>\n",
       "      <td>Direct</td>\n",
       "    </tr>\n",
       "    <tr>\n",
       "      <th>4</th>\n",
       "      <td>24306</td>\n",
       "      <td>vf-1627767297699-yNpVvGTH6cdqOYyVocAu3</td>\n",
       "      <td>Direct</td>\n",
       "      <td>2022-02-11 15:59:16.579</td>\n",
       "      <td>2022-02-11 16:41:45.242179+00:00</td>\n",
       "      <td>https://danija.lt/prekes/6624-juodi-odiniai-mo...</td>\n",
       "      <td>https://danija.lt/module/danfavoriteproducts/p...</td>\n",
       "      <td>document_mouse_enter</td>\n",
       "      <td>{}</td>\n",
       "      <td>Other</td>\n",
       "    </tr>\n",
       "  </tbody>\n",
       "</table>\n",
       "</div>"
      ],
      "text/plain": [
       "   session_id                                guest_id channel  \\\n",
       "0        9767  vf-1626768085374-EUaspMG7BI_IqpqIQDd9c  Social   \n",
       "1        9767  vf-1626768085374-EUaspMG7BI_IqpqIQDd9c  Social   \n",
       "2        9767  vf-1626768085374-EUaspMG7BI_IqpqIQDd9c  Social   \n",
       "3       24306  vf-1627767297699-yNpVvGTH6cdqOYyVocAu3  Direct   \n",
       "4       24306  vf-1627767297699-yNpVvGTH6cdqOYyVocAu3  Direct   \n",
       "\n",
       "               event_time                           created  \\\n",
       "0 2022-02-12 08:03:55.138  2022-02-12 08:14:41.220319+00:00   \n",
       "1 2022-02-12 08:03:55.139  2022-02-12 08:14:41.220319+00:00   \n",
       "2 2022-02-12 08:03:55.140  2022-02-12 08:14:41.220319+00:00   \n",
       "3 2022-02-11 15:59:16.578  2022-02-11 16:41:45.242179+00:00   \n",
       "4 2022-02-11 15:59:16.579  2022-02-11 16:41:45.242179+00:00   \n",
       "\n",
       "                                             referer  \\\n",
       "0                             http://m.facebook.com/   \n",
       "1                             http://m.facebook.com/   \n",
       "2                             http://m.facebook.com/   \n",
       "3  https://danija.lt/prekes/6624-juodi-odiniai-mo...   \n",
       "4  https://danija.lt/prekes/6624-juodi-odiniai-mo...   \n",
       "\n",
       "                                                 url                  name  \\\n",
       "0                                             Social             page_view   \n",
       "1  https://danija.lt/prekes/6790-juodos-odines-mo...             page_view   \n",
       "2                                            not_atb             page_view   \n",
       "3                                             Direct  document_mouse_enter   \n",
       "4  https://danija.lt/module/danfavoriteproducts/p...  document_mouse_enter   \n",
       "\n",
       "  event_data concept:name  \n",
       "0         {}       Social  \n",
       "1         {}        Other  \n",
       "2         {}      not_atb  \n",
       "3         {}       Direct  \n",
       "4         {}        Other  "
      ]
     },
     "execution_count": 49,
     "metadata": {},
     "output_type": "execute_result"
    }
   ],
   "source": [
    "natb.head()"
   ]
  },
  {
   "cell_type": "code",
   "execution_count": 24,
   "id": "5b8c843a",
   "metadata": {},
   "outputs": [
    {
     "data": {
      "text/plain": [
       "Other                                                       129984\n",
       "not_atb                                                      80136\n",
       "https://danija.lt/moteriski                                  71544\n",
       "https://danija.lt/moteriski/moteriski-aulinukai              38298\n",
       "https://danija.lt/                                           36966\n",
       "Social                                                       24950\n",
       "Organic Search                                               20871\n",
       "https://danija.lt/moteriski/bateliai                         19412\n",
       "Direct                                                       18869\n",
       "https://danija.lt/akcijos                                    15092\n",
       "https://danija.lt/vyriski                                    10128\n",
       "https://danija.lt/moteriski/moteriski-laisvalaikio-batai      9796\n",
       "https://danija.lt/naujienos-2                                 8978\n",
       "https://danija.lt/greitas-uzsakymas                           8419\n",
       "https://danija.lt/moteriski/zieminiai-batai-2                 8227\n",
       "Paid Search                                                   7810\n",
       "https://danija.lt/paieska                                     4932\n",
       "https://danija.lt/moteriski/aukstakulniai                     4767\n",
       "https://danija.lt/moteriski/ilgaauliai-batai                  4719\n",
       "https://danija.lt/vyriski/vyriski-laisvalaikio-batai          3972\n",
       "Name: concept:name, dtype: int64"
      ]
     },
     "execution_count": 24,
     "metadata": {},
     "output_type": "execute_result"
    }
   ],
   "source": [
    "natb['concept:name'].value_counts().nlargest(30)"
   ]
  },
  {
   "cell_type": "code",
   "execution_count": null,
   "id": "4af44161",
   "metadata": {},
   "outputs": [],
   "source": [
    "atb_channel = pd.DataFrame()\n",
    "natb_channel = pd.DataFrame()\n",
    "pbar = tqdm.tqdm(total=len(atb['session_id'].unique()))\n",
    "for row in atb['session_id'].unique():\n",
    "    atb_channel = atb_channel.append(atb[atb['session_id'] == row].head(1))\n",
    "    pbar.update(1)\n",
    "pbar.close()\n",
    "pbar = tqdm.tqdm(total=len(natb['session_id'].unique()))\n",
    "for row in natb['session_id'].unique():\n",
    "    natb_channel = natb_channel.append(natb[natb['session_id'] == row].head(1))\n",
    "    pbar.update(1)\n",
    "pbar.close()"
   ]
  },
  {
   "cell_type": "code",
   "execution_count": null,
   "id": "93be28da",
   "metadata": {},
   "outputs": [],
   "source": [
    "natb_channel.head()"
   ]
  },
  {
   "cell_type": "code",
   "execution_count": 18,
   "id": "04941554",
   "metadata": {},
   "outputs": [
    {
     "ename": "NameError",
     "evalue": "name 'atb_channel' is not defined",
     "output_type": "error",
     "traceback": [
      "\u001b[0;31m---------------------------------------------------------------------------\u001b[0m",
      "\u001b[0;31mNameError\u001b[0m                                 Traceback (most recent call last)",
      "\u001b[0;32m/var/folders/c3/9j950x0d2ss6kp61s2jjhd1c0000gn/T/ipykernel_10460/3447837374.py\u001b[0m in \u001b[0;36m<cell line: 1>\u001b[0;34m()\u001b[0m\n\u001b[0;32m----> 1\u001b[0;31m \u001b[0matb_channel\u001b[0m\u001b[0;34m.\u001b[0m\u001b[0mto_csv\u001b[0m\u001b[0;34m(\u001b[0m\u001b[0;34m'atb_channel.csv'\u001b[0m\u001b[0;34m)\u001b[0m\u001b[0;34m\u001b[0m\u001b[0;34m\u001b[0m\u001b[0m\n\u001b[0m\u001b[1;32m      2\u001b[0m \u001b[0mnatb_channel\u001b[0m\u001b[0;34m.\u001b[0m\u001b[0mto_csv\u001b[0m\u001b[0;34m(\u001b[0m\u001b[0;34m'natb_channel.csv'\u001b[0m\u001b[0;34m)\u001b[0m\u001b[0;34m\u001b[0m\u001b[0;34m\u001b[0m\u001b[0m\n",
      "\u001b[0;31mNameError\u001b[0m: name 'atb_channel' is not defined"
     ]
    }
   ],
   "source": [
    "atb_channel.to_csv('atb_channel.csv')\n",
    "natb_channel.to_csv('natb_channel.csv')"
   ]
  },
  {
   "cell_type": "code",
   "execution_count": 4,
   "id": "96edb275",
   "metadata": {},
   "outputs": [],
   "source": [
    "atb_channel = pd.read_csv('atb_channel.csv').drop('Unnamed: 0', axis=1)\n",
    "natb_channel = pd.read_csv('natb_channel.csv').drop('Unnamed: 0', axis=1)"
   ]
  },
  {
   "cell_type": "code",
   "execution_count": 7,
   "id": "28735b5b",
   "metadata": {},
   "outputs": [],
   "source": [
    "atb_natb = pd.concat([atb, natb], ignore_index=True)"
   ]
  },
  {
   "cell_type": "code",
   "execution_count": 33,
   "id": "c4c1b928",
   "metadata": {},
   "outputs": [
    {
     "data": {
      "text/html": [
       "<div>\n",
       "<style scoped>\n",
       "    .dataframe tbody tr th:only-of-type {\n",
       "        vertical-align: middle;\n",
       "    }\n",
       "\n",
       "    .dataframe tbody tr th {\n",
       "        vertical-align: top;\n",
       "    }\n",
       "\n",
       "    .dataframe thead th {\n",
       "        text-align: right;\n",
       "    }\n",
       "</style>\n",
       "<table border=\"1\" class=\"dataframe\">\n",
       "  <thead>\n",
       "    <tr style=\"text-align: right;\">\n",
       "      <th></th>\n",
       "      <th>session_id</th>\n",
       "      <th>guest_id</th>\n",
       "      <th>channel</th>\n",
       "      <th>event_time</th>\n",
       "      <th>created</th>\n",
       "      <th>referer</th>\n",
       "      <th>url</th>\n",
       "      <th>name</th>\n",
       "      <th>event_data</th>\n",
       "      <th>concept:name</th>\n",
       "    </tr>\n",
       "  </thead>\n",
       "  <tbody>\n",
       "    <tr>\n",
       "      <th>0</th>\n",
       "      <td>9767</td>\n",
       "      <td>vf-1626768085374-EUaspMG7BI_IqpqIQDd9c</td>\n",
       "      <td>Social</td>\n",
       "      <td>2022-02-12 08:03:55.138000</td>\n",
       "      <td>2022-02-12 08:14:41.220319+00:00</td>\n",
       "      <td>http://m.facebook.com/</td>\n",
       "      <td>Social</td>\n",
       "      <td>page_view</td>\n",
       "      <td>{}</td>\n",
       "      <td>Social</td>\n",
       "    </tr>\n",
       "    <tr>\n",
       "      <th>1</th>\n",
       "      <td>9767</td>\n",
       "      <td>vf-1626768085374-EUaspMG7BI_IqpqIQDd9c</td>\n",
       "      <td>Social</td>\n",
       "      <td>2022-02-12 08:03:55.139000</td>\n",
       "      <td>2022-02-12 08:14:41.220319+00:00</td>\n",
       "      <td>http://m.facebook.com/</td>\n",
       "      <td>https://danija.lt/prekes/6790-juodos-odines-mo...</td>\n",
       "      <td>page_view</td>\n",
       "      <td>{}</td>\n",
       "      <td>Other</td>\n",
       "    </tr>\n",
       "    <tr>\n",
       "      <th>2</th>\n",
       "      <td>9767</td>\n",
       "      <td>vf-1626768085374-EUaspMG7BI_IqpqIQDd9c</td>\n",
       "      <td>Social</td>\n",
       "      <td>2022-02-12 08:03:55.140000</td>\n",
       "      <td>2022-02-12 08:14:41.220319+00:00</td>\n",
       "      <td>http://m.facebook.com/</td>\n",
       "      <td>not_atb</td>\n",
       "      <td>page_view</td>\n",
       "      <td>{}</td>\n",
       "      <td>not_atb</td>\n",
       "    </tr>\n",
       "    <tr>\n",
       "      <th>3</th>\n",
       "      <td>24306</td>\n",
       "      <td>vf-1627767297699-yNpVvGTH6cdqOYyVocAu3</td>\n",
       "      <td>Direct</td>\n",
       "      <td>2022-02-11 15:59:16.578000</td>\n",
       "      <td>2022-02-11 16:41:45.242179+00:00</td>\n",
       "      <td>https://danija.lt/prekes/6624-juodi-odiniai-mo...</td>\n",
       "      <td>Direct</td>\n",
       "      <td>document_mouse_enter</td>\n",
       "      <td>{}</td>\n",
       "      <td>Direct</td>\n",
       "    </tr>\n",
       "    <tr>\n",
       "      <th>4</th>\n",
       "      <td>24306</td>\n",
       "      <td>vf-1627767297699-yNpVvGTH6cdqOYyVocAu3</td>\n",
       "      <td>Direct</td>\n",
       "      <td>2022-02-11 15:59:16.579000</td>\n",
       "      <td>2022-02-11 16:41:45.242179+00:00</td>\n",
       "      <td>https://danija.lt/prekes/6624-juodi-odiniai-mo...</td>\n",
       "      <td>https://danija.lt/module/danfavoriteproducts/p...</td>\n",
       "      <td>document_mouse_enter</td>\n",
       "      <td>{}</td>\n",
       "      <td>Other</td>\n",
       "    </tr>\n",
       "    <tr>\n",
       "      <th>5</th>\n",
       "      <td>24306</td>\n",
       "      <td>vf-1627767297699-yNpVvGTH6cdqOYyVocAu3</td>\n",
       "      <td>Direct</td>\n",
       "      <td>2022-02-11 15:59:16.580000</td>\n",
       "      <td>2022-02-11 16:41:45.242179+00:00</td>\n",
       "      <td>https://danija.lt/prekes/6624-juodi-odiniai-mo...</td>\n",
       "      <td>not_atb</td>\n",
       "      <td>document_mouse_enter</td>\n",
       "      <td>{}</td>\n",
       "      <td>not_atb</td>\n",
       "    </tr>\n",
       "    <tr>\n",
       "      <th>6</th>\n",
       "      <td>76312</td>\n",
       "      <td>vf-1626409146333-KcLBwUgM4fowNQYrCV9p4</td>\n",
       "      <td>Social</td>\n",
       "      <td>2022-02-08 19:57:23.029000</td>\n",
       "      <td>2022-02-08 20:26:46.267663+00:00</td>\n",
       "      <td>http://instagram.com/</td>\n",
       "      <td>Social</td>\n",
       "      <td>page_view</td>\n",
       "      <td>{}</td>\n",
       "      <td>Social</td>\n",
       "    </tr>\n",
       "    <tr>\n",
       "      <th>7</th>\n",
       "      <td>76312</td>\n",
       "      <td>vf-1626409146333-KcLBwUgM4fowNQYrCV9p4</td>\n",
       "      <td>Social</td>\n",
       "      <td>2022-02-08 19:57:23.030000</td>\n",
       "      <td>2022-02-08 20:26:46.267663+00:00</td>\n",
       "      <td>http://instagram.com/</td>\n",
       "      <td>https://danija.lt/prekes/7054-juodos-odines-mo...</td>\n",
       "      <td>page_view</td>\n",
       "      <td>{}</td>\n",
       "      <td>Other</td>\n",
       "    </tr>\n",
       "    <tr>\n",
       "      <th>8</th>\n",
       "      <td>76312</td>\n",
       "      <td>vf-1626409146333-KcLBwUgM4fowNQYrCV9p4</td>\n",
       "      <td>Social</td>\n",
       "      <td>2022-02-08 19:57:23.031000</td>\n",
       "      <td>2022-02-08 20:26:46.267663+00:00</td>\n",
       "      <td>http://instagram.com/</td>\n",
       "      <td>not_atb</td>\n",
       "      <td>page_view</td>\n",
       "      <td>{}</td>\n",
       "      <td>not_atb</td>\n",
       "    </tr>\n",
       "    <tr>\n",
       "      <th>9</th>\n",
       "      <td>143925</td>\n",
       "      <td>vf-1627675634174-mwWQ7jb_l88gp6Zs290RQ</td>\n",
       "      <td>Direct</td>\n",
       "      <td>2022-02-02 11:08:24.752000</td>\n",
       "      <td>2022-02-02 11:36:54.471001+00:00</td>\n",
       "      <td>https://danija.lt/moteriski</td>\n",
       "      <td>Direct</td>\n",
       "      <td>page_view</td>\n",
       "      <td>{}</td>\n",
       "      <td>Direct</td>\n",
       "    </tr>\n",
       "  </tbody>\n",
       "</table>\n",
       "</div>"
      ],
      "text/plain": [
       "   session_id                                guest_id channel  \\\n",
       "0        9767  vf-1626768085374-EUaspMG7BI_IqpqIQDd9c  Social   \n",
       "1        9767  vf-1626768085374-EUaspMG7BI_IqpqIQDd9c  Social   \n",
       "2        9767  vf-1626768085374-EUaspMG7BI_IqpqIQDd9c  Social   \n",
       "3       24306  vf-1627767297699-yNpVvGTH6cdqOYyVocAu3  Direct   \n",
       "4       24306  vf-1627767297699-yNpVvGTH6cdqOYyVocAu3  Direct   \n",
       "5       24306  vf-1627767297699-yNpVvGTH6cdqOYyVocAu3  Direct   \n",
       "6       76312  vf-1626409146333-KcLBwUgM4fowNQYrCV9p4  Social   \n",
       "7       76312  vf-1626409146333-KcLBwUgM4fowNQYrCV9p4  Social   \n",
       "8       76312  vf-1626409146333-KcLBwUgM4fowNQYrCV9p4  Social   \n",
       "9      143925  vf-1627675634174-mwWQ7jb_l88gp6Zs290RQ  Direct   \n",
       "\n",
       "                   event_time                           created  \\\n",
       "0  2022-02-12 08:03:55.138000  2022-02-12 08:14:41.220319+00:00   \n",
       "1  2022-02-12 08:03:55.139000  2022-02-12 08:14:41.220319+00:00   \n",
       "2  2022-02-12 08:03:55.140000  2022-02-12 08:14:41.220319+00:00   \n",
       "3  2022-02-11 15:59:16.578000  2022-02-11 16:41:45.242179+00:00   \n",
       "4  2022-02-11 15:59:16.579000  2022-02-11 16:41:45.242179+00:00   \n",
       "5  2022-02-11 15:59:16.580000  2022-02-11 16:41:45.242179+00:00   \n",
       "6  2022-02-08 19:57:23.029000  2022-02-08 20:26:46.267663+00:00   \n",
       "7  2022-02-08 19:57:23.030000  2022-02-08 20:26:46.267663+00:00   \n",
       "8  2022-02-08 19:57:23.031000  2022-02-08 20:26:46.267663+00:00   \n",
       "9  2022-02-02 11:08:24.752000  2022-02-02 11:36:54.471001+00:00   \n",
       "\n",
       "                                             referer  \\\n",
       "0                             http://m.facebook.com/   \n",
       "1                             http://m.facebook.com/   \n",
       "2                             http://m.facebook.com/   \n",
       "3  https://danija.lt/prekes/6624-juodi-odiniai-mo...   \n",
       "4  https://danija.lt/prekes/6624-juodi-odiniai-mo...   \n",
       "5  https://danija.lt/prekes/6624-juodi-odiniai-mo...   \n",
       "6                              http://instagram.com/   \n",
       "7                              http://instagram.com/   \n",
       "8                              http://instagram.com/   \n",
       "9                        https://danija.lt/moteriski   \n",
       "\n",
       "                                                 url                  name  \\\n",
       "0                                             Social             page_view   \n",
       "1  https://danija.lt/prekes/6790-juodos-odines-mo...             page_view   \n",
       "2                                            not_atb             page_view   \n",
       "3                                             Direct  document_mouse_enter   \n",
       "4  https://danija.lt/module/danfavoriteproducts/p...  document_mouse_enter   \n",
       "5                                            not_atb  document_mouse_enter   \n",
       "6                                             Social             page_view   \n",
       "7  https://danija.lt/prekes/7054-juodos-odines-mo...             page_view   \n",
       "8                                            not_atb             page_view   \n",
       "9                                             Direct             page_view   \n",
       "\n",
       "  event_data concept:name  \n",
       "0         {}       Social  \n",
       "1         {}        Other  \n",
       "2         {}      not_atb  \n",
       "3         {}       Direct  \n",
       "4         {}        Other  \n",
       "5         {}      not_atb  \n",
       "6         {}       Social  \n",
       "7         {}        Other  \n",
       "8         {}      not_atb  \n",
       "9         {}       Direct  "
      ]
     },
     "execution_count": 33,
     "metadata": {},
     "output_type": "execute_result"
    }
   ],
   "source": [
    "atb_natb.sort_values(['session_id', 'event_time']).reset_index(drop=True).head(10)"
   ]
  },
  {
   "cell_type": "code",
   "execution_count": 38,
   "id": "9abcd01d",
   "metadata": {},
   "outputs": [],
   "source": [
    "atb_natb.loc[atb_natb['concept:name'] == 'add_to_basket', 'url'] = 'atb'"
   ]
  },
  {
   "cell_type": "code",
   "execution_count": 8,
   "id": "2adc9669",
   "metadata": {},
   "outputs": [
    {
     "data": {
      "text/plain": [
       "<AxesSubplot:>"
      ]
     },
     "execution_count": 8,
     "metadata": {},
     "output_type": "execute_result"
    },
    {
     "data": {
      "image/png": "[encoded data removed]",
      "text/plain": [
       "<Figure size 432x288 with 1 Axes>"
      ]
     },
     "metadata": {
      "needs_background": "light"
     },
     "output_type": "display_data"
    }
   ],
   "source": [
    "atb_natb['concept:name'].value_counts().nlargest(21).plot.bar()"
   ]
  },
  {
   "cell_type": "code",
   "execution_count": 44,
   "id": "2d2ff3ef",
   "metadata": {},
   "outputs": [],
   "source": [
    "atb_natb.to_csv('atb_natb.csv')"
   ]
  },
  {
   "cell_type": "code",
   "execution_count": null,
   "id": "613efceb",
   "metadata": {},
   "outputs": [],
   "source": [
    "print(natb_channel['concept:name'].value_counts())\n",
    "natb_channel['concept:name'].value_counts().plot.bar()"
   ]
  },
  {
   "cell_type": "code",
   "execution_count": null,
   "id": "bfaa586d",
   "metadata": {},
   "outputs": [],
   "source": [
    "print(atb_channel['concept:name'].value_counts())\n",
    "atb_channel['concept:name'].value_counts().plot.bar()"
   ]
  },
  {
   "cell_type": "code",
   "execution_count": null,
   "id": "563ab1db",
   "metadata": {},
   "outputs": [],
   "source": [
    "all_channel = pd.concat([atb_channel, natb_channel], ignore_index=True)"
   ]
  },
  {
   "cell_type": "code",
   "execution_count": null,
   "id": "80adc3dd",
   "metadata": {},
   "outputs": [],
   "source": [
    "all_channel.head()"
   ]
  },
  {
   "cell_type": "code",
   "execution_count": null,
   "id": "9f453334",
   "metadata": {},
   "outputs": [],
   "source": [
    "print(all_channel['concept:name'].value_counts())\n",
    "all_channel['concept:name'].value_counts().plot.bar()"
   ]
  },
  {
   "cell_type": "code",
   "execution_count": 5,
   "id": "55d80bdb",
   "metadata": {},
   "outputs": [
    {
     "ename": "NameError",
     "evalue": "name 'natb' is not defined",
     "output_type": "error",
     "traceback": [
      "\u001b[0;31m---------------------------------------------------------------------------\u001b[0m",
      "\u001b[0;31mNameError\u001b[0m                                 Traceback (most recent call last)",
      "\u001b[0;32m/var/folders/c3/9j950x0d2ss6kp61s2jjhd1c0000gn/T/ipykernel_14430/2272728784.py\u001b[0m in \u001b[0;36m<cell line: 4>\u001b[0;34m()\u001b[0m\n\u001b[1;32m      2\u001b[0m \u001b[0;34m\u001b[0m\u001b[0m\n\u001b[1;32m      3\u001b[0m \u001b[0;31m# load sample user behavior data as a pandas dataframe:\u001b[0m\u001b[0;34m\u001b[0m\u001b[0;34m\u001b[0m\u001b[0;34m\u001b[0m\u001b[0m\n\u001b[0;32m----> 4\u001b[0;31m \u001b[0mdata\u001b[0m \u001b[0;34m=\u001b[0m \u001b[0mnatb\u001b[0m\u001b[0;34m\u001b[0m\u001b[0;34m\u001b[0m\u001b[0m\n\u001b[0m\u001b[1;32m      5\u001b[0m \u001b[0;34m\u001b[0m\u001b[0m\n\u001b[1;32m      6\u001b[0m \u001b[0;31m# update config to pass columns names:\u001b[0m\u001b[0;34m\u001b[0m\u001b[0;34m\u001b[0m\u001b[0;34m\u001b[0m\u001b[0m\n",
      "\u001b[0;31mNameError\u001b[0m: name 'natb' is not defined"
     ]
    }
   ],
   "source": [
    "import retentioneering\n",
    "\n",
    "# load sample user behavior data as a pandas dataframe: \n",
    "data = natb\n",
    "\n",
    "# update config to pass columns names:\n",
    "retentioneering.config.update({\n",
    "    'user_col': 'session_id',\n",
    "    'event_col': 'concept:name',\n",
    "    'event_time_col':'event_time',\n",
    "})"
   ]
  },
  {
   "cell_type": "code",
   "execution_count": null,
   "id": "7a943a44",
   "metadata": {},
   "outputs": [],
   "source": [
    "data.rete.plot_graph(norm_type='node',\n",
    "                     weight_col=None,\n",
    "                     thresh=0.0,\n",
    "                     targets = {'add_to_basket':'green',\n",
    "                                'not_atb':'red'})"
   ]
  },
  {
   "cell_type": "code",
   "execution_count": 45,
   "id": "c4cbaa28",
   "metadata": {},
   "outputs": [],
   "source": [
    "data_all = atb_natb"
   ]
  },
  {
   "cell_type": "code",
   "execution_count": 48,
   "id": "e8d28fa5",
   "metadata": {},
   "outputs": [
    {
     "ename": "KeyboardInterrupt",
     "evalue": "",
     "output_type": "error",
     "traceback": [
      "\u001b[0;31m---------------------------------------------------------------------------\u001b[0m",
      "\u001b[0;31mKeyboardInterrupt\u001b[0m                         Traceback (most recent call last)",
      "\u001b[0;32m/var/folders/c3/9j950x0d2ss6kp61s2jjhd1c0000gn/T/ipykernel_10460/908187174.py\u001b[0m in \u001b[0;36m<cell line: 1>\u001b[0;34m()\u001b[0m\n\u001b[0;32m----> 1\u001b[0;31m data_all.rete.plot_graph(norm_type='node',\n\u001b[0m\u001b[1;32m      2\u001b[0m                      \u001b[0mweight_col\u001b[0m\u001b[0;34m=\u001b[0m\u001b[0;32mNone\u001b[0m\u001b[0;34m,\u001b[0m\u001b[0;34m\u001b[0m\u001b[0;34m\u001b[0m\u001b[0m\n\u001b[1;32m      3\u001b[0m                      \u001b[0mthresh\u001b[0m\u001b[0;34m=\u001b[0m\u001b[0;36m0.8\u001b[0m\u001b[0;34m,\u001b[0m\u001b[0;34m\u001b[0m\u001b[0;34m\u001b[0m\u001b[0m\n\u001b[1;32m      4\u001b[0m                      targets = {'add_to_basket':'green',\n\u001b[1;32m      5\u001b[0m                                 'not_atb':'red'})\n",
      "\u001b[0;32m~/anaconda3/lib/python3.8/site-packages/retentioneering/core/core_functions/plot_graph.py\u001b[0m in \u001b[0;36mplot_graph\u001b[0;34m(self, targets, weight_col, norm_type, layout_dump, width, height, thresh)\u001b[0m\n\u001b[1;32m     96\u001b[0m                              norm_type=norm_type)\n\u001b[1;32m     97\u001b[0m \u001b[0;34m\u001b[0m\u001b[0m\n\u001b[0;32m---> 98\u001b[0;31m     path = draw_graph.graph(data,\n\u001b[0m\u001b[1;32m     99\u001b[0m                             \u001b[0mnode_params\u001b[0m\u001b[0;34m=\u001b[0m\u001b[0mtargets\u001b[0m\u001b[0;34m,\u001b[0m\u001b[0;34m\u001b[0m\u001b[0;34m\u001b[0m\u001b[0m\n\u001b[1;32m    100\u001b[0m                             \u001b[0mnode_weights\u001b[0m\u001b[0;34m=\u001b[0m\u001b[0mnode_weights\u001b[0m\u001b[0;34m,\u001b[0m\u001b[0;34m\u001b[0m\u001b[0;34m\u001b[0m\u001b[0m\n",
      "\u001b[0;32m~/anaconda3/lib/python3.8/site-packages/retentioneering/visualization/plot_utils.py\u001b[0m in \u001b[0;36msave_plot_wrapper\u001b[0;34m(*args, **kwargs)\u001b[0m\n\u001b[1;32m     19\u001b[0m         \u001b[0msns\u001b[0m\u001b[0;34m.\u001b[0m\u001b[0mmpl\u001b[0m\u001b[0;34m.\u001b[0m\u001b[0mpyplot\u001b[0m\u001b[0;34m.\u001b[0m\u001b[0mshow\u001b[0m\u001b[0;34m(\u001b[0m\u001b[0;34m)\u001b[0m\u001b[0;34m\u001b[0m\u001b[0;34m\u001b[0m\u001b[0m\n\u001b[1;32m     20\u001b[0m         \u001b[0msns\u001b[0m\u001b[0;34m.\u001b[0m\u001b[0mmpl\u001b[0m\u001b[0;34m.\u001b[0m\u001b[0mpyplot\u001b[0m\u001b[0;34m.\u001b[0m\u001b[0mclose\u001b[0m\u001b[0;34m(\u001b[0m\u001b[0;34m)\u001b[0m\u001b[0;34m\u001b[0m\u001b[0;34m\u001b[0m\u001b[0m\n\u001b[0;32m---> 21\u001b[0;31m         \u001b[0mres\u001b[0m \u001b[0;34m=\u001b[0m \u001b[0mfunc\u001b[0m\u001b[0;34m(\u001b[0m\u001b[0;34m*\u001b[0m\u001b[0margs\u001b[0m\u001b[0;34m,\u001b[0m \u001b[0;34m**\u001b[0m\u001b[0mkwargs\u001b[0m\u001b[0;34m)\u001b[0m\u001b[0;34m\u001b[0m\u001b[0;34m\u001b[0m\u001b[0m\n\u001b[0m\u001b[1;32m     22\u001b[0m         \u001b[0;32mif\u001b[0m \u001b[0mlen\u001b[0m\u001b[0;34m(\u001b[0m\u001b[0mres\u001b[0m\u001b[0;34m)\u001b[0m \u001b[0;34m==\u001b[0m \u001b[0;36m2\u001b[0m\u001b[0;34m:\u001b[0m\u001b[0;34m\u001b[0m\u001b[0;34m\u001b[0m\u001b[0m\n\u001b[1;32m     23\u001b[0m             \u001b[0;34m(\u001b[0m\u001b[0mvis_object\u001b[0m\u001b[0;34m,\u001b[0m \u001b[0mname\u001b[0m\u001b[0;34m)\u001b[0m\u001b[0;34m,\u001b[0m \u001b[0mres\u001b[0m\u001b[0;34m,\u001b[0m \u001b[0mcfg\u001b[0m \u001b[0;34m=\u001b[0m \u001b[0mres\u001b[0m\u001b[0;34m,\u001b[0m \u001b[0;32mNone\u001b[0m\u001b[0;34m,\u001b[0m \u001b[0;32mNone\u001b[0m\u001b[0;34m\u001b[0m\u001b[0;34m\u001b[0m\u001b[0m\n",
      "\u001b[0;32m~/anaconda3/lib/python3.8/site-packages/retentioneering/visualization/draw_graph.py\u001b[0m in \u001b[0;36mgraph\u001b[0;34m(data, node_params, thresh, width, height, interactive, layout_dump, show_percent, plot_name, node_weights, **kwargs)\u001b[0m\n\u001b[1;32m    220\u001b[0m     \u001b[0;32mif\u001b[0m \u001b[0mnode_params\u001b[0m \u001b[0;32mis\u001b[0m \u001b[0;32mNone\u001b[0m\u001b[0;34m:\u001b[0m\u001b[0;34m\u001b[0m\u001b[0;34m\u001b[0m\u001b[0m\n\u001b[1;32m    221\u001b[0m         \u001b[0mnode_params\u001b[0m \u001b[0;34m=\u001b[0m \u001b[0m_prepare_node_params\u001b[0m\u001b[0;34m(\u001b[0m\u001b[0mnode_params\u001b[0m\u001b[0;34m,\u001b[0m \u001b[0mdata\u001b[0m\u001b[0;34m)\u001b[0m\u001b[0;34m\u001b[0m\u001b[0;34m\u001b[0m\u001b[0m\n\u001b[0;32m--> 222\u001b[0;31m     res = _make_json_data(data,\n\u001b[0m\u001b[1;32m    223\u001b[0m                           \u001b[0mnode_params\u001b[0m\u001b[0;34m,\u001b[0m\u001b[0;34m\u001b[0m\u001b[0;34m\u001b[0m\u001b[0m\n\u001b[1;32m    224\u001b[0m                           \u001b[0mlayout_dump\u001b[0m\u001b[0;34m,\u001b[0m\u001b[0;34m\u001b[0m\u001b[0;34m\u001b[0m\u001b[0m\n",
      "\u001b[0;32m~/anaconda3/lib/python3.8/site-packages/retentioneering/visualization/draw_graph.py\u001b[0m in \u001b[0;36m_make_json_data\u001b[0;34m(data, node_params, layout_dump, thresh, width, height, **kwargs)\u001b[0m\n\u001b[1;32m    104\u001b[0m             x.target) or 'suit', 1)\n\u001b[1;32m    105\u001b[0m \u001b[0;34m\u001b[0m\u001b[0m\n\u001b[0;32m--> 106\u001b[0;31m     \u001b[0mpos\u001b[0m\u001b[0;34m,\u001b[0m \u001b[0mdegrees\u001b[0m \u001b[0;34m=\u001b[0m \u001b[0m_calc_layout\u001b[0m\u001b[0;34m(\u001b[0m\u001b[0mdata\u001b[0m\u001b[0;34m,\u001b[0m \u001b[0mnode_params\u001b[0m\u001b[0;34m,\u001b[0m \u001b[0mwidth\u001b[0m\u001b[0;34m=\u001b[0m\u001b[0mwidth\u001b[0m\u001b[0;34m,\u001b[0m \u001b[0mheight\u001b[0m\u001b[0;34m=\u001b[0m\u001b[0mheight\u001b[0m\u001b[0;34m,\u001b[0m \u001b[0;34m**\u001b[0m\u001b[0mkwargs\u001b[0m\u001b[0;34m)\u001b[0m\u001b[0;34m\u001b[0m\u001b[0;34m\u001b[0m\u001b[0m\n\u001b[0m\u001b[1;32m    107\u001b[0m \u001b[0;34m\u001b[0m\u001b[0m\n\u001b[1;32m    108\u001b[0m     \u001b[0;32mif\u001b[0m \u001b[0mkwargs\u001b[0m\u001b[0;34m.\u001b[0m\u001b[0mget\u001b[0m\u001b[0;34m(\u001b[0m\u001b[0;34m'node_weights'\u001b[0m\u001b[0;34m)\u001b[0m \u001b[0;32mis\u001b[0m \u001b[0;32mnot\u001b[0m \u001b[0;32mNone\u001b[0m\u001b[0;34m:\u001b[0m\u001b[0;34m\u001b[0m\u001b[0;34m\u001b[0m\u001b[0m\n",
      "\u001b[0;32m~/anaconda3/lib/python3.8/site-packages/retentioneering/visualization/draw_graph.py\u001b[0m in \u001b[0;36m_calc_layout\u001b[0;34m(data, node_params, width, height, **kwargs)\u001b[0m\n\u001b[1;32m     27\u001b[0m     \u001b[0mG\u001b[0m\u001b[0;34m.\u001b[0m\u001b[0madd_weighted_edges_from\u001b[0m\u001b[0;34m(\u001b[0m\u001b[0mdata\u001b[0m\u001b[0;34m.\u001b[0m\u001b[0mloc\u001b[0m\u001b[0;34m[\u001b[0m\u001b[0;34m:\u001b[0m\u001b[0;34m,\u001b[0m \u001b[0;34m[\u001b[0m\u001b[0;34m'source'\u001b[0m\u001b[0;34m,\u001b[0m \u001b[0;34m'target'\u001b[0m\u001b[0;34m,\u001b[0m \u001b[0;34m'weight'\u001b[0m\u001b[0;34m]\u001b[0m\u001b[0;34m]\u001b[0m\u001b[0;34m.\u001b[0m\u001b[0mvalues\u001b[0m\u001b[0;34m)\u001b[0m\u001b[0;34m\u001b[0m\u001b[0;34m\u001b[0m\u001b[0m\n\u001b[1;32m     28\u001b[0m \u001b[0;34m\u001b[0m\u001b[0m\n\u001b[0;32m---> 29\u001b[0;31m     pos_new = nx.layout.spring_layout(G, k=kwargs.get('k', .1),\n\u001b[0m\u001b[1;32m     30\u001b[0m                                       \u001b[0miterations\u001b[0m\u001b[0;34m=\u001b[0m\u001b[0mkwargs\u001b[0m\u001b[0;34m.\u001b[0m\u001b[0mget\u001b[0m\u001b[0;34m(\u001b[0m\u001b[0;34m'iterations'\u001b[0m\u001b[0;34m,\u001b[0m \u001b[0;36m300\u001b[0m\u001b[0;34m)\u001b[0m\u001b[0;34m,\u001b[0m\u001b[0;34m\u001b[0m\u001b[0;34m\u001b[0m\u001b[0m\n\u001b[1;32m     31\u001b[0m                                       \u001b[0mthreshold\u001b[0m\u001b[0;34m=\u001b[0m\u001b[0mkwargs\u001b[0m\u001b[0;34m.\u001b[0m\u001b[0mget\u001b[0m\u001b[0;34m(\u001b[0m\u001b[0;34m'nx_threshold'\u001b[0m\u001b[0;34m,\u001b[0m \u001b[0;36m1e-4\u001b[0m\u001b[0;34m)\u001b[0m\u001b[0;34m,\u001b[0m\u001b[0;34m\u001b[0m\u001b[0;34m\u001b[0m\u001b[0m\n",
      "\u001b[0;32m~/anaconda3/lib/python3.8/site-packages/networkx/utils/decorators.py\u001b[0m in \u001b[0;36margmap_spring_layout_1\u001b[0;34m(G, k, pos, fixed, iterations, threshold, weight, scale, center, dim, seed)\u001b[0m\n\u001b[1;32m      2\u001b[0m \u001b[0;32mfrom\u001b[0m \u001b[0mos\u001b[0m\u001b[0;34m.\u001b[0m\u001b[0mpath\u001b[0m \u001b[0;32mimport\u001b[0m \u001b[0msplitext\u001b[0m\u001b[0;34m\u001b[0m\u001b[0;34m\u001b[0m\u001b[0m\n\u001b[1;32m      3\u001b[0m \u001b[0;32mfrom\u001b[0m \u001b[0mcontextlib\u001b[0m \u001b[0;32mimport\u001b[0m \u001b[0mcontextmanager\u001b[0m\u001b[0;34m\u001b[0m\u001b[0;34m\u001b[0m\u001b[0m\n\u001b[0;32m----> 4\u001b[0;31m \u001b[0;32mfrom\u001b[0m \u001b[0mpathlib\u001b[0m \u001b[0;32mimport\u001b[0m \u001b[0mPath\u001b[0m\u001b[0;34m\u001b[0m\u001b[0;34m\u001b[0m\u001b[0m\n\u001b[0m\u001b[1;32m      5\u001b[0m \u001b[0;34m\u001b[0m\u001b[0m\n\u001b[1;32m      6\u001b[0m \u001b[0;32mimport\u001b[0m \u001b[0mnetworkx\u001b[0m \u001b[0;32mas\u001b[0m \u001b[0mnx\u001b[0m\u001b[0;34m\u001b[0m\u001b[0;34m\u001b[0m\u001b[0m\n",
      "\u001b[0;32m~/anaconda3/lib/python3.8/site-packages/networkx/drawing/layout.py\u001b[0m in \u001b[0;36mspring_layout\u001b[0;34m(G, k, pos, fixed, iterations, threshold, weight, scale, center, dim, seed)\u001b[0m\n\u001b[1;32m    479\u001b[0m             \u001b[0mnnodes\u001b[0m\u001b[0;34m,\u001b[0m \u001b[0m_\u001b[0m \u001b[0;34m=\u001b[0m \u001b[0mA\u001b[0m\u001b[0;34m.\u001b[0m\u001b[0mshape\u001b[0m\u001b[0;34m\u001b[0m\u001b[0;34m\u001b[0m\u001b[0m\n\u001b[1;32m    480\u001b[0m             \u001b[0mk\u001b[0m \u001b[0;34m=\u001b[0m \u001b[0mdom_size\u001b[0m \u001b[0;34m/\u001b[0m \u001b[0mnp\u001b[0m\u001b[0;34m.\u001b[0m\u001b[0msqrt\u001b[0m\u001b[0;34m(\u001b[0m\u001b[0mnnodes\u001b[0m\u001b[0;34m)\u001b[0m\u001b[0;34m\u001b[0m\u001b[0;34m\u001b[0m\u001b[0m\n\u001b[0;32m--> 481\u001b[0;31m         pos = _sparse_fruchterman_reingold(\n\u001b[0m\u001b[1;32m    482\u001b[0m             \u001b[0mA\u001b[0m\u001b[0;34m,\u001b[0m \u001b[0mk\u001b[0m\u001b[0;34m,\u001b[0m \u001b[0mpos_arr\u001b[0m\u001b[0;34m,\u001b[0m \u001b[0mfixed\u001b[0m\u001b[0;34m,\u001b[0m \u001b[0miterations\u001b[0m\u001b[0;34m,\u001b[0m \u001b[0mthreshold\u001b[0m\u001b[0;34m,\u001b[0m \u001b[0mdim\u001b[0m\u001b[0;34m,\u001b[0m \u001b[0mseed\u001b[0m\u001b[0;34m\u001b[0m\u001b[0;34m\u001b[0m\u001b[0m\n\u001b[1;32m    483\u001b[0m         )\n",
      "\u001b[0;32m~/anaconda3/lib/python3.8/site-packages/networkx/utils/decorators.py\u001b[0m in \u001b[0;36margmap__sparse_fruchterman_reingold_9\u001b[0;34m(A, k, pos, fixed, iterations, threshold, dim, seed)\u001b[0m\n\u001b[1;32m      2\u001b[0m \u001b[0;32mfrom\u001b[0m \u001b[0mos\u001b[0m\u001b[0;34m.\u001b[0m\u001b[0mpath\u001b[0m \u001b[0;32mimport\u001b[0m \u001b[0msplitext\u001b[0m\u001b[0;34m\u001b[0m\u001b[0;34m\u001b[0m\u001b[0m\n\u001b[1;32m      3\u001b[0m \u001b[0;32mfrom\u001b[0m \u001b[0mcontextlib\u001b[0m \u001b[0;32mimport\u001b[0m \u001b[0mcontextmanager\u001b[0m\u001b[0;34m\u001b[0m\u001b[0;34m\u001b[0m\u001b[0m\n\u001b[0;32m----> 4\u001b[0;31m \u001b[0;32mfrom\u001b[0m \u001b[0mpathlib\u001b[0m \u001b[0;32mimport\u001b[0m \u001b[0mPath\u001b[0m\u001b[0;34m\u001b[0m\u001b[0;34m\u001b[0m\u001b[0m\n\u001b[0m\u001b[1;32m      5\u001b[0m \u001b[0;34m\u001b[0m\u001b[0m\n\u001b[1;32m      6\u001b[0m \u001b[0;32mimport\u001b[0m \u001b[0mnetworkx\u001b[0m \u001b[0;32mas\u001b[0m \u001b[0mnx\u001b[0m\u001b[0;34m\u001b[0m\u001b[0;34m\u001b[0m\u001b[0m\n",
      "\u001b[0;32m~/anaconda3/lib/python3.8/site-packages/networkx/drawing/layout.py\u001b[0m in \u001b[0;36m_sparse_fruchterman_reingold\u001b[0;34m(A, k, pos, fixed, iterations, threshold, dim, seed)\u001b[0m\n\u001b[1;32m    621\u001b[0m             \u001b[0mAi\u001b[0m \u001b[0;34m=\u001b[0m \u001b[0mA\u001b[0m\u001b[0;34m.\u001b[0m\u001b[0mgetrowview\u001b[0m\u001b[0;34m(\u001b[0m\u001b[0mi\u001b[0m\u001b[0;34m)\u001b[0m\u001b[0;34m.\u001b[0m\u001b[0mtoarray\u001b[0m\u001b[0;34m(\u001b[0m\u001b[0;34m)\u001b[0m  \u001b[0;31m# TODO: revisit w/ sparse 1D container\u001b[0m\u001b[0;34m\u001b[0m\u001b[0;34m\u001b[0m\u001b[0m\n\u001b[1;32m    622\u001b[0m             \u001b[0;31m# displacement \"force\"\u001b[0m\u001b[0;34m\u001b[0m\u001b[0;34m\u001b[0m\u001b[0;34m\u001b[0m\u001b[0m\n\u001b[0;32m--> 623\u001b[0;31m             displacement[:, i] += (\n\u001b[0m\u001b[1;32m    624\u001b[0m                 \u001b[0mdelta\u001b[0m \u001b[0;34m*\u001b[0m \u001b[0;34m(\u001b[0m\u001b[0mk\u001b[0m \u001b[0;34m*\u001b[0m \u001b[0mk\u001b[0m \u001b[0;34m/\u001b[0m \u001b[0mdistance\u001b[0m \u001b[0;34m**\u001b[0m \u001b[0;36m2\u001b[0m \u001b[0;34m-\u001b[0m \u001b[0mAi\u001b[0m \u001b[0;34m*\u001b[0m \u001b[0mdistance\u001b[0m \u001b[0;34m/\u001b[0m \u001b[0mk\u001b[0m\u001b[0;34m)\u001b[0m\u001b[0;34m\u001b[0m\u001b[0;34m\u001b[0m\u001b[0m\n\u001b[1;32m    625\u001b[0m             ).sum(axis=1)\n",
      "\u001b[0;32m~/anaconda3/lib/python3.8/site-packages/numpy/core/_methods.py\u001b[0m in \u001b[0;36m_sum\u001b[0;34m(a, axis, dtype, out, keepdims, initial, where)\u001b[0m\n\u001b[1;32m     46\u001b[0m def _sum(a, axis=None, dtype=None, out=None, keepdims=False,\n\u001b[1;32m     47\u001b[0m          initial=_NoValue, where=True):\n\u001b[0;32m---> 48\u001b[0;31m     \u001b[0;32mreturn\u001b[0m \u001b[0mumr_sum\u001b[0m\u001b[0;34m(\u001b[0m\u001b[0ma\u001b[0m\u001b[0;34m,\u001b[0m \u001b[0maxis\u001b[0m\u001b[0;34m,\u001b[0m \u001b[0mdtype\u001b[0m\u001b[0;34m,\u001b[0m \u001b[0mout\u001b[0m\u001b[0;34m,\u001b[0m \u001b[0mkeepdims\u001b[0m\u001b[0;34m,\u001b[0m \u001b[0minitial\u001b[0m\u001b[0;34m,\u001b[0m \u001b[0mwhere\u001b[0m\u001b[0;34m)\u001b[0m\u001b[0;34m\u001b[0m\u001b[0;34m\u001b[0m\u001b[0m\n\u001b[0m\u001b[1;32m     49\u001b[0m \u001b[0;34m\u001b[0m\u001b[0m\n\u001b[1;32m     50\u001b[0m def _prod(a, axis=None, dtype=None, out=None, keepdims=False,\n",
      "\u001b[0;31mKeyboardInterrupt\u001b[0m: "
     ]
    }
   ],
   "source": [
    "data_all.rete.plot_graph(norm_type='node',\n",
    "                     weight_col=None,\n",
    "                     thresh=0.8,\n",
    "                     targets = {'add_to_basket':'green',\n",
    "                                'not_atb':'red'})"
   ]
  },
  {
   "cell_type": "markdown",
   "id": "c3e124a0",
   "metadata": {},
   "source": [
    "----------------------"
   ]
  },
  {
   "cell_type": "code",
   "execution_count": null,
   "id": "65edf7e9",
   "metadata": {},
   "outputs": [],
   "source": []
  },
  {
   "cell_type": "code",
   "execution_count": null,
   "id": "62e8035e",
   "metadata": {
    "scrolled": false
   },
   "outputs": [],
   "source": [
    "# import plotly.graph_objects as go\n",
    "# import matplotlib\n",
    "# matplotlib.use(\"QtAgg\")\n",
    "\n",
    "# fig = go.Figure(data=[go.Sankey(\n",
    "#     node = dict(\n",
    "#       pad = 15,\n",
    "#       thickness = 20,\n",
    "#       line = dict(color = \"black\", width = 0.5),\n",
    "#       label = [\"A1\", \"A2\", \"B1\", \"B2\", \"C1\", \"C2\"],\n",
    "#       color = \"blue\"\n",
    "#     ),\n",
    "#     link = dict(\n",
    "#       source = [0, 1, 0, 2, 3, 3], # indices correspond to labels, eg A1, A2, A1, B1, ...\n",
    "#       target = [2, 3, 3, 4, 4, 5],\n",
    "#       value = [8, 4, 2, 8, 4, 2]\n",
    "#   ))])\n",
    "\n",
    "# fig.update_layout(title_text=\"Basic Sankey Diagram\", font_size=10)\n",
    "# fig.show()"
   ]
  },
  {
   "cell_type": "code",
   "execution_count": null,
   "id": "0e69f646",
   "metadata": {
    "scrolled": false
   },
   "outputs": [],
   "source": []
  },
  {
   "cell_type": "markdown",
   "id": "5ba187c0",
   "metadata": {},
   "source": [
    "------------"
   ]
  },
  {
   "cell_type": "code",
   "execution_count": null,
   "id": "c2ebde6c",
   "metadata": {},
   "outputs": [],
   "source": [
    "len(events['session_id'].unique())"
   ]
  },
  {
   "cell_type": "code",
   "execution_count": null,
   "id": "fb87a27e",
   "metadata": {},
   "outputs": [],
   "source": [
    "events = events.append(adds)"
   ]
  },
  {
   "cell_type": "code",
   "execution_count": null,
   "id": "810cfcb2",
   "metadata": {},
   "outputs": [],
   "source": [
    "events.head()"
   ]
  },
  {
   "cell_type": "code",
   "execution_count": null,
   "id": "1fd2ca72",
   "metadata": {},
   "outputs": [],
   "source": [
    "events.session_id = events.session_id.astype(int)"
   ]
  },
  {
   "cell_type": "code",
   "execution_count": null,
   "id": "563f95fb",
   "metadata": {},
   "outputs": [],
   "source": [
    "events.head()"
   ]
  },
  {
   "cell_type": "code",
   "execution_count": null,
   "id": "02a656e4",
   "metadata": {},
   "outputs": [],
   "source": [
    "# test_events.head()\n",
    "# test_adds"
   ]
  },
  {
   "cell_type": "code",
   "execution_count": null,
   "id": "8b0d0e9e",
   "metadata": {},
   "outputs": [],
   "source": [
    "events.iloc[0].event_time"
   ]
  },
  {
   "cell_type": "code",
   "execution_count": null,
   "id": "2c731ef6",
   "metadata": {},
   "outputs": [],
   "source": [
    "events.iloc[0].event_time - timedelta(milliseconds=1)"
   ]
  },
  {
   "cell_type": "code",
   "execution_count": null,
   "id": "dc77d490",
   "metadata": {},
   "outputs": [],
   "source": [
    "events = events.sort_values(['session_id', 'event_time']).reset_index(drop=True)#.drop('index', axis=1)"
   ]
  },
  {
   "cell_type": "code",
   "execution_count": null,
   "id": "de3b7fd4",
   "metadata": {
    "scrolled": false
   },
   "outputs": [],
   "source": [
    "events.loc[events['concept:name'] == 'Direct'].head()"
   ]
  },
  {
   "cell_type": "code",
   "execution_count": null,
   "id": "27a02012",
   "metadata": {
    "scrolled": true
   },
   "outputs": [],
   "source": [
    "events['concept:name'].value_counts().nlargest(50)"
   ]
  },
  {
   "cell_type": "code",
   "execution_count": null,
   "id": "0fb52ebb",
   "metadata": {
    "scrolled": true
   },
   "outputs": [],
   "source": [
    "events.loc[events['channel'] == 'Email', 'referer'].value_counts()"
   ]
  },
  {
   "cell_type": "code",
   "execution_count": null,
   "id": "4c087f55",
   "metadata": {},
   "outputs": [],
   "source": [
    "events = events.drop_duplicates(subset=events.columns.difference(['name', 'event_time', 'event_data']))"
   ]
  },
  {
   "cell_type": "code",
   "execution_count": null,
   "id": "3d2fc4e5",
   "metadata": {},
   "outputs": [],
   "source": [
    "events['concept:name'] = events['url'].copy()"
   ]
  },
  {
   "cell_type": "code",
   "execution_count": null,
   "id": "42c2326f",
   "metadata": {},
   "outputs": [],
   "source": [
    "events.loc[events['name'] == 'add_to_basket', 'concept:name'] = 'add_to_basket'"
   ]
  },
  {
   "cell_type": "code",
   "execution_count": null,
   "id": "d42af602",
   "metadata": {},
   "outputs": [],
   "source": [
    "events.iloc[1]"
   ]
  },
  {
   "cell_type": "code",
   "execution_count": null,
   "id": "01706d04",
   "metadata": {
    "scrolled": false
   },
   "outputs": [],
   "source": [
    "events.loc[events['session_id'] == 24105616].head()"
   ]
  },
  {
   "cell_type": "code",
   "execution_count": null,
   "id": "59872bed",
   "metadata": {},
   "outputs": [],
   "source": [
    "minorizer_features = FeatureMinorizer(0.3, 0.001)\n",
    "\n",
    "events = minorizer_features.inplace_minorization(events, ['concept:name'], [])"
   ]
  },
  {
   "cell_type": "code",
   "execution_count": null,
   "id": "0ea7b10c",
   "metadata": {},
   "outputs": [],
   "source": [
    "events = minorizer_features.minorise_feature(events, 'concept:name', 500)"
   ]
  },
  {
   "cell_type": "code",
   "execution_count": null,
   "id": "2968d1e2",
   "metadata": {},
   "outputs": [],
   "source": [
    "events['concept:name'].value_counts().nlargest(50)"
   ]
  },
  {
   "cell_type": "code",
   "execution_count": null,
   "id": "0db98662",
   "metadata": {},
   "outputs": [],
   "source": [
    "events['channel'].value_counts()"
   ]
  },
  {
   "cell_type": "code",
   "execution_count": null,
   "id": "7d9484c1",
   "metadata": {
    "scrolled": true
   },
   "outputs": [],
   "source": [
    "sessions[sessions.id == 23779735]"
   ]
  },
  {
   "cell_type": "code",
   "execution_count": null,
   "id": "e06a297c",
   "metadata": {},
   "outputs": [],
   "source": [
    "events.iloc[0]"
   ]
  },
  {
   "cell_type": "code",
   "execution_count": null,
   "id": "7b1180b5",
   "metadata": {},
   "outputs": [],
   "source": [
    "sessions[sessions['id'] == 23779735].iloc[0]"
   ]
  },
  {
   "cell_type": "code",
   "execution_count": null,
   "id": "3f4c6958",
   "metadata": {},
   "outputs": [],
   "source": [
    "events.info()"
   ]
  },
  {
   "cell_type": "code",
   "execution_count": null,
   "id": "dd0eb250",
   "metadata": {},
   "outputs": [],
   "source": [
    "len('https://danija.lt/moteriski/ilgaauliai-batai')"
   ]
  },
  {
   "cell_type": "code",
   "execution_count": null,
   "id": "88bbe51d",
   "metadata": {},
   "outputs": [],
   "source": [
    "events['session_id'].isna().value_counts()"
   ]
  },
  {
   "cell_type": "code",
   "execution_count": null,
   "id": "b0ee6200",
   "metadata": {},
   "outputs": [],
   "source": [
    "events['referer'] = events['referer'].fillna(events['channel'])"
   ]
  },
  {
   "cell_type": "code",
   "execution_count": null,
   "id": "c1564f6e",
   "metadata": {},
   "outputs": [],
   "source": [
    "# events['referer'] = events['referer'].apply(lambda x: str(x) if '/' not in str(x) or len(str(x)) < 60 else '/'.join(str(x).split('/')[:-1]))\n",
    "# events['url'] = events['url'].apply(lambda x: str(x) if '/' not in str(x) or len(str(x)) < 60 else '/'.join(str(x).split('/')[:-1]))\n",
    "\n",
    "events['referer'] = events.referer.str.split('?').apply(lambda x : x[0])\n",
    "events['url'] = events.url.str.split('?').apply(lambda x : x[0])\n",
    "events['concept:name'] = events['concept:name'].str.split('?').apply(lambda x : x[0])"
   ]
  },
  {
   "cell_type": "code",
   "execution_count": null,
   "id": "4c719838",
   "metadata": {},
   "outputs": [],
   "source": [
    "events[events['referer'].isna()].head()"
   ]
  },
  {
   "cell_type": "code",
   "execution_count": null,
   "id": "979cc972",
   "metadata": {},
   "outputs": [],
   "source": [
    "import pm4py\n",
    "import pm4py.objects.log.importer\n",
    "from pm4py.objects.log.util import dataframe_utils\n",
    "from pm4py.objects.conversion.log import converter as log_converter"
   ]
  },
  {
   "cell_type": "code",
   "execution_count": null,
   "id": "751e2fda",
   "metadata": {},
   "outputs": [],
   "source": [
    "parameters = {log_converter.Variants.TO_EVENT_LOG.value.Parameters.CASE_ID_KEY: 'session_id', \n",
    "              log_converter.Variants.TO_EVENT_LOG.value.Parameters.CASE_ATTRIBUTE_PREFIX: 'concept:name:'}\n",
    "\n",
    "# CASE_ID_KEY is for marking groups of events\n",
    "# CASE_ATTRIBUTE_PREFIX is for marking additional attributes used to describe groups"
   ]
  },
  {
   "cell_type": "code",
   "execution_count": null,
   "id": "3ee34e26",
   "metadata": {},
   "outputs": [],
   "source": [
    "# log_csv_sessions = dataframe_utils.convert_timestamp_columns_in_df(sessions)\n",
    "# log_csv_sessions = log_csv_sessions.sort_values('<timestamp_column>')\n",
    "# event_log = log_converter.apply(log_csv_sessions)\n",
    "\n",
    "log_csv_events = dataframe_utils.convert_timestamp_columns_in_df(events)\n",
    "log_csv_events = log_csv_events.sort_values('event_time')\n",
    "event_log = log_converter.apply(log_csv_events, parameters=parameters, variant=log_converter.Variants.TO_EVENT_LOG) "
   ]
  },
  {
   "cell_type": "code",
   "execution_count": null,
   "id": "fdb480ed",
   "metadata": {},
   "outputs": [],
   "source": [
    "# len(event_log)\n",
    "len(log_csv_events)"
   ]
  },
  {
   "cell_type": "markdown",
   "id": "c3626f98",
   "metadata": {},
   "source": [
    " - 'attributes' field is obviously designed for session parameters which we will add later"
   ]
  },
  {
   "cell_type": "code",
   "execution_count": null,
   "id": "252bebdb",
   "metadata": {},
   "outputs": [],
   "source": [
    "# how to make log with bare hands\n",
    "# log = {'attributes': sessions.columns.drop('s_id')}\n",
    "# log"
   ]
  },
  {
   "cell_type": "code",
   "execution_count": null,
   "id": "8d9496f5",
   "metadata": {},
   "outputs": [],
   "source": [
    "log = event_log"
   ]
  },
  {
   "cell_type": "code",
   "execution_count": null,
   "id": "e0f48f69",
   "metadata": {},
   "outputs": [],
   "source": [
    "from pm4py.objects.log.exporter.xes import exporter as xes_exporter\n",
    "xes_exporter.apply(log, 'cutlog.xes')"
   ]
  },
  {
   "cell_type": "code",
   "execution_count": null,
   "id": "2deb6971",
   "metadata": {},
   "outputs": [],
   "source": [
    "log[1]"
   ]
  },
  {
   "cell_type": "code",
   "execution_count": null,
   "id": "191eba33",
   "metadata": {},
   "outputs": [],
   "source": [
    "log[0][0]"
   ]
  },
  {
   "cell_type": "code",
   "execution_count": null,
   "id": "2663414c",
   "metadata": {},
   "outputs": [],
   "source": [
    "print(type(log))\n",
    "print(type(log[0]))\n",
    "print(type(log[0][0]))"
   ]
  },
  {
   "cell_type": "code",
   "execution_count": null,
   "id": "88c31211",
   "metadata": {},
   "outputs": [],
   "source": [
    "from pm4py.algo.filtering.log.start_activities import start_activities_filter\n",
    "from pm4py.algo.filtering.log.end_activities import end_activities_filter\n",
    "\n",
    "log_start = start_activities_filter.get_start_activities(log, parameters={start_activities_filter.Parameters.ACTIVITY_KEY: 'concept:name'})\n",
    "end_activities = end_activities_filter.get_end_activities(log, parameters={end_activities_filter.Parameters.ACTIVITY_KEY: 'concept:name'})"
   ]
  },
  {
   "cell_type": "code",
   "execution_count": null,
   "id": "71313c42",
   "metadata": {
    "scrolled": true
   },
   "outputs": [],
   "source": [
    "log_start"
   ]
  },
  {
   "cell_type": "code",
   "execution_count": null,
   "id": "54ec2769",
   "metadata": {
    "scrolled": true
   },
   "outputs": [],
   "source": [
    "end_activities"
   ]
  },
  {
   "cell_type": "code",
   "execution_count": null,
   "id": "9fbfaeb9",
   "metadata": {},
   "outputs": [],
   "source": [
    "print('Всего сессий:              ', len(log))\n",
    "print('Различных начальных точек: ', len(log_start))\n",
    "print('Различных завершений:      ', len(end_activities))"
   ]
  },
  {
   "cell_type": "code",
   "execution_count": null,
   "id": "ef8f17ca",
   "metadata": {},
   "outputs": [],
   "source": [
    "from pm4py.algo.filtering.log.variants import variants_filter\n",
    "from pm4py.statistics.traces.generic.log import case_statistics\n",
    "\n",
    "variants = variants_filter.get_variants(log, parameters={variants_filter.Parameters.ACTIVITY_KEY: 'concept:name'})\n",
    "print(f\"We have: {len(variants)} variants in our log\")"
   ]
  },
  {
   "cell_type": "code",
   "execution_count": null,
   "id": "d432f787",
   "metadata": {
    "scrolled": true
   },
   "outputs": [],
   "source": [
    "variants_count = case_statistics.get_variant_statistics(log, parameters={case_statistics.Parameters.ACTIVITY_KEY: 'concept:name'})\n",
    "variants_count = sorted(variants_count, key=lambda x: x['count'], reverse=False)\n",
    "variants_count[:20]"
   ]
  },
  {
   "cell_type": "code",
   "execution_count": null,
   "id": "94da1fca",
   "metadata": {
    "scrolled": true
   },
   "outputs": [],
   "source": [
    "from pm4py.algo.filtering.log.attributes import attributes_filter\n",
    "\n",
    "activities = attributes_filter.get_attribute_values(log, \"concept:name\")\n",
    "activities\n",
    "\n",
    "# it's a list of states"
   ]
  },
  {
   "cell_type": "code",
   "execution_count": null,
   "id": "83ea7e3f",
   "metadata": {},
   "outputs": [],
   "source": [
    "import pm4py, pandas as pd, numpy as np, os\n",
    "from pm4py.objects.log.importer.xes import importer as xes_importer\n",
    "from pm4py.objects.conversion.log import converter as log_converter\n",
    "\n",
    "# for processes\n",
    "from pm4py.algo.discovery.alpha import algorithm as alpha_miner\n",
    "from pm4py.algo.discovery.inductive import algorithm as inductive_miner\n",
    "from pm4py.algo.discovery.heuristics import algorithm as heuristics_miner\n",
    "from pm4py.algo.discovery.dfg import algorithm as dfg_discovery\n",
    "\n",
    "# for vizualization\n",
    "from pm4py.visualization.petri_net import visualizer as pn_visualizer\n",
    "from pm4py.visualization.process_tree import visualizer as pt_visualizer\n",
    "from pm4py.visualization.heuristics_net import visualizer as hn_visualizer\n",
    "from pm4py.visualization.dfg import visualizer as dfg_visualization\n",
    "\n",
    "# misc \n",
    "from pm4py.objects.conversion.process_tree import converter as pt_converter\n",
    "\n",
    "pd.set_option('display.max_columns', None)\n",
    "pd.set_option('display.max_rows', None)"
   ]
  },
  {
   "cell_type": "code",
   "execution_count": null,
   "id": "d2ca855b",
   "metadata": {
    "scrolled": true
   },
   "outputs": [],
   "source": [
    "net, initial_marking, final_marking = alpha_miner.apply(log, parameters={alpha_miner.Parameters.ACTIVITY_KEY: 'concept:name'})\n",
    "gviz = pn_visualizer.apply(net, initial_marking, final_marking)\n",
    "pn_visualizer.view(gviz)"
   ]
  },
  {
   "cell_type": "code",
   "execution_count": null,
   "id": "156ca365",
   "metadata": {
    "scrolled": true
   },
   "outputs": [],
   "source": [
    "parameters = {pn_visualizer.Variants.FREQUENCY.value.Parameters.FORMAT: 'png', alpha_miner.Parameters.ACTIVITY_KEY: 'url'}\n",
    "gviz = pn_visualizer.apply(net, initial_marking, final_marking, parameters=parameters, variant=pn_visualizer.Variants.FREQUENCY, log=log)\n",
    "pn_visualizer.view(gviz)"
   ]
  },
  {
   "cell_type": "code",
   "execution_count": null,
   "id": "e240d8ad",
   "metadata": {},
   "outputs": [],
   "source": [
    "heu_net = heuristics_miner.apply_heu(log, parameters={heuristics_miner.Variants.CLASSIC.value.Parameters.DEPENDENCY_THRESH: .5, \n",
    "                                                      alpha_miner.Parameters.ACTIVITY_KEY: 'concept:name'})\n",
    "gviz = hn_visualizer.apply(heu_net)\n",
    "hn_visualizer.view(gviz)"
   ]
  },
  {
   "cell_type": "code",
   "execution_count": null,
   "id": "d9ba60aa",
   "metadata": {},
   "outputs": [],
   "source": [
    "len(events)"
   ]
  },
  {
   "cell_type": "code",
   "execution_count": null,
   "id": "681a4ac2",
   "metadata": {},
   "outputs": [],
   "source": [
    "import retentioneering\n",
    "\n",
    "# load sample user behavior data as a pandas dataframe: \n",
    "data = events\n",
    "\n",
    "# update config to pass columns names:\n",
    "retentioneering.config.update({\n",
    "    'user_col': 'session_id',\n",
    "    'event_col': 'concept:name',\n",
    "    'event_time_col':'event_time',\n",
    "})"
   ]
  },
  {
   "cell_type": "code",
   "execution_count": null,
   "id": "86dad7c9",
   "metadata": {},
   "outputs": [],
   "source": [
    "data.head()"
   ]
  },
  {
   "cell_type": "code",
   "execution_count": null,
   "id": "a0e1c394",
   "metadata": {},
   "outputs": [],
   "source": [
    "data.rete.plot_graph(norm_type='full',\n",
    "                     weight_col='session_id',\n",
    "                     thresh=0.8,\n",
    "                     targets = {'add_to_basket':'green',\n",
    "                                'lost':'red'})"
   ]
  },
  {
   "cell_type": "code",
   "execution_count": null,
   "id": "1fd77819",
   "metadata": {},
   "outputs": [],
   "source": [
    "htmltools::save_html(data.rete.plot_graph(norm_type='full',\n",
    "                     weight_col='session_id',\n",
    "                     thresh=0.8,\n",
    "                     targets = {'add_to_basket':'green',\n",
    "                                'lost':'red'}), file = \"sunburst.html\")"
   ]
  },
  {
   "cell_type": "markdown",
   "id": "3053216b",
   "metadata": {},
   "source": [
    "-------------------"
   ]
  },
  {
   "cell_type": "code",
   "execution_count": null,
   "id": "e21c58a1",
   "metadata": {},
   "outputs": [],
   "source": [
    "import datetime\n",
    "today = datetime.date.today()\n",
    "first = today.replace(day=1)"
   ]
  },
  {
   "cell_type": "code",
   "execution_count": null,
   "id": "2a709c9d",
   "metadata": {},
   "outputs": [],
   "source": [
    "events_last_3m = events[(events.event_time > pd.to_datetime(today) - pd.Timedelta(days=90)) & (events.event_time < pd.to_datetime(today))]"
   ]
  },
  {
   "cell_type": "code",
   "execution_count": null,
   "id": "a4f89247",
   "metadata": {},
   "outputs": [],
   "source": [
    "events_last_3m.event_time.min(), events_last_3m.event_time.max()"
   ]
  },
  {
   "cell_type": "code",
   "execution_count": null,
   "id": "bbf5dcbe",
   "metadata": {},
   "outputs": [],
   "source": [
    "minorizer_features = FeatureMinorizer(0.3, 0.001)\n",
    "\n",
    "events_last_3m = minorizer_features.inplace_minorization(events_last_3m, ['url'], [])"
   ]
  },
  {
   "cell_type": "code",
   "execution_count": null,
   "id": "333c4811",
   "metadata": {},
   "outputs": [],
   "source": [
    "events_last_3m.url.value_counts()"
   ]
  },
  {
   "cell_type": "code",
   "execution_count": null,
   "id": "8f5809cb",
   "metadata": {},
   "outputs": [],
   "source": [
    "events_last_3m = minorizer_features.minorise_feature(events_last_3m, 'url', 2000)"
   ]
  },
  {
   "cell_type": "code",
   "execution_count": null,
   "id": "4a7defad",
   "metadata": {},
   "outputs": [],
   "source": [
    "events_last_3m = events_last_3m[(events_last_3m.url !='Other' ) | (events_last_3m.name =='add_to_basket')]"
   ]
  },
  {
   "cell_type": "code",
   "execution_count": null,
   "id": "e2c5af6f",
   "metadata": {},
   "outputs": [],
   "source": [
    "events_last_3m.event_time.min(), events_last_3m.event_time.max()"
   ]
  },
  {
   "cell_type": "code",
   "execution_count": null,
   "id": "5d4e1743",
   "metadata": {},
   "outputs": [],
   "source": [
    "def add_to_global_data(data, source_targer_key,atb_happened):\n",
    "    if data.get(source_targer_key,None):\n",
    "        data[source_targer_key]['count'] +=1\n",
    "        if atb_happened:\n",
    "            data[source_targer_key]['atb'] += 1\n",
    "    else:\n",
    "        data[source_targer_key] = {}\n",
    "        data[source_targer_key]['count'] = 1\n",
    "        if atb_happened:\n",
    "            data[source_targer_key]['atb'] = 1\n",
    "        else:\n",
    "            data[source_targer_key]['atb'] = 0"
   ]
  },
  {
   "cell_type": "code",
   "execution_count": null,
   "id": "9cc98721",
   "metadata": {},
   "outputs": [],
   "source": [
    "events_last_3m.url = events_last_3m.url.str.split('?').apply(lambda x : x[0])"
   ]
  },
  {
   "cell_type": "markdown",
   "id": "bad24934",
   "metadata": {},
   "source": [
    "--------------"
   ]
  },
  {
   "cell_type": "code",
   "execution_count": null,
   "id": "65187dd1",
   "metadata": {},
   "outputs": [],
   "source": [
    "events_last_3m"
   ]
  },
  {
   "cell_type": "code",
   "execution_count": null,
   "id": "a2d69f6f",
   "metadata": {},
   "outputs": [],
   "source": [
    "parameters = {log_converter.Variants.TO_EVENT_LOG.value.Parameters.CASE_ID_KEY: 'session_id', \n",
    "              log_converter.Variants.TO_EVENT_LOG.value.Parameters.CASE_ATTRIBUTE_PREFIX: 'url:'}\n",
    "\n",
    "# CASE_ID_KEY is for marking groups of events\n",
    "# CASE_ATTRIBUTE_PREFIX is for marking additional attributes used to describe groups"
   ]
  },
  {
   "cell_type": "code",
   "execution_count": null,
   "id": "eee65475",
   "metadata": {},
   "outputs": [],
   "source": [
    "log_csv_events = dataframe_utils.convert_timestamp_columns_in_df(events_last_3m)\n",
    "log_csv_events = log_csv_events.sort_values('event_time')\n",
    "event_log = log_converter.apply(log_csv_events, parameters=parameters, variant=log_converter.Variants.TO_EVENT_LOG) "
   ]
  },
  {
   "cell_type": "code",
   "execution_count": null,
   "id": "f035e580",
   "metadata": {},
   "outputs": [],
   "source": [
    "log_csv_events.head()"
   ]
  },
  {
   "cell_type": "code",
   "execution_count": null,
   "id": "9527fd0f",
   "metadata": {},
   "outputs": [],
   "source": [
    "log = event_log"
   ]
  },
  {
   "cell_type": "code",
   "execution_count": null,
   "id": "b6152905",
   "metadata": {},
   "outputs": [],
   "source": [
    "log[0]"
   ]
  },
  {
   "cell_type": "code",
   "execution_count": null,
   "id": "c10817fe",
   "metadata": {},
   "outputs": [],
   "source": [
    "log[0][0]"
   ]
  },
  {
   "cell_type": "code",
   "execution_count": null,
   "id": "3743475a",
   "metadata": {},
   "outputs": [],
   "source": [
    "print(type(log))\n",
    "print(type(log[0]))\n",
    "print(type(log[0][0]))"
   ]
  },
  {
   "cell_type": "code",
   "execution_count": null,
   "id": "dfe0eb4a",
   "metadata": {},
   "outputs": [],
   "source": [
    "from pm4py.algo.filtering.log.start_activities import start_activities_filter\n",
    "from pm4py.algo.filtering.log.end_activities import end_activities_filter\n",
    "\n",
    "log_start = start_activities_filter.get_start_activities(log, parameters={start_activities_filter.Parameters.ACTIVITY_KEY: 'url'})\n",
    "end_activities = end_activities_filter.get_end_activities(log, parameters={end_activities_filter.Parameters.ACTIVITY_KEY: 'url'})"
   ]
  },
  {
   "cell_type": "code",
   "execution_count": null,
   "id": "2909da5c",
   "metadata": {},
   "outputs": [],
   "source": [
    "log_start"
   ]
  },
  {
   "cell_type": "code",
   "execution_count": null,
   "id": "612b8ec9",
   "metadata": {},
   "outputs": [],
   "source": [
    "end_activities"
   ]
  },
  {
   "cell_type": "code",
   "execution_count": null,
   "id": "aca12976",
   "metadata": {},
   "outputs": [],
   "source": [
    "print('Всего сессий:              ', len(log))\n",
    "print('Различных начальных точек: ', len(log_start))\n",
    "print('Различных завершений:      ', len(end_activities))"
   ]
  },
  {
   "cell_type": "code",
   "execution_count": null,
   "id": "6d7c9952",
   "metadata": {},
   "outputs": [],
   "source": [
    "from pm4py.algo.filtering.log.variants import variants_filter\n",
    "from pm4py.statistics.traces.generic.log import case_statistics\n",
    "\n",
    "variants = variants_filter.get_variants(log, parameters={variants_filter.Parameters.ACTIVITY_KEY: 'url'})\n",
    "print(f\"We have: {len(variants)} variants in our log\")"
   ]
  },
  {
   "cell_type": "code",
   "execution_count": null,
   "id": "e0b67adb",
   "metadata": {},
   "outputs": [],
   "source": [
    "variants_count = case_statistics.get_variant_statistics(log, parameters={case_statistics.Parameters.ACTIVITY_KEY: 'url'})\n",
    "variants_count = sorted(variants_count, key=lambda x: x['count'], reverse=True)\n",
    "variants_count[:10]"
   ]
  },
  {
   "cell_type": "code",
   "execution_count": null,
   "id": "2bd9846e",
   "metadata": {},
   "outputs": [],
   "source": [
    "from pm4py.algo.filtering.log.attributes import attributes_filter\n",
    "\n",
    "activities = attributes_filter.get_attribute_values(log, \"url\")\n",
    "activities"
   ]
  },
  {
   "cell_type": "code",
   "execution_count": null,
   "id": "87ad6d1c",
   "metadata": {},
   "outputs": [],
   "source": [
    "import pm4py, pandas as pd, numpy as np, os\n",
    "from pm4py.objects.log.importer.xes import importer as xes_importer\n",
    "from pm4py.objects.conversion.log import converter as log_converter\n",
    "\n",
    "# for processes\n",
    "from pm4py.algo.discovery.alpha import algorithm as alpha_miner\n",
    "from pm4py.algo.discovery.inductive import algorithm as inductive_miner\n",
    "from pm4py.algo.discovery.heuristics import algorithm as heuristics_miner\n",
    "from pm4py.algo.discovery.dfg import algorithm as dfg_discovery\n",
    "\n",
    "# for vizualization\n",
    "from pm4py.visualization.petri_net import visualizer as pn_visualizer\n",
    "from pm4py.visualization.process_tree import visualizer as pt_visualizer\n",
    "from pm4py.visualization.heuristics_net import visualizer as hn_visualizer\n",
    "from pm4py.visualization.dfg import visualizer as dfg_visualization\n",
    "\n",
    "# misc \n",
    "from pm4py.objects.conversion.process_tree import converter as pt_converter\n",
    "\n",
    "pd.set_option('display.max_columns', None)\n",
    "pd.set_option('display.max_rows', None)"
   ]
  },
  {
   "cell_type": "code",
   "execution_count": null,
   "id": "f85aa213",
   "metadata": {
    "scrolled": true
   },
   "outputs": [],
   "source": [
    "net, initial_marking, final_marking = alpha_miner.apply(log, parameters={alpha_miner.Parameters.ACTIVITY_KEY: 'url'})\n",
    "gviz = pn_visualizer.apply(net, initial_marking, final_marking)\n",
    "pn_visualizer.view(gviz)"
   ]
  },
  {
   "cell_type": "code",
   "execution_count": null,
   "id": "b2b67378",
   "metadata": {
    "scrolled": true
   },
   "outputs": [],
   "source": [
    "parameters = {pn_visualizer.Variants.FREQUENCY.value.Parameters.FORMAT: 'png', alpha_miner.Parameters.ACTIVITY_KEY: 'url'}\n",
    "gviz = pn_visualizer.apply(net, initial_marking, final_marking, parameters=parameters, variant=pn_visualizer.Variants.FREQUENCY, log=log)\n",
    "pn_visualizer.view(gviz)"
   ]
  },
  {
   "cell_type": "code",
   "execution_count": null,
   "id": "3ccff7f7",
   "metadata": {},
   "outputs": [],
   "source": [
    "tree = inductive_miner.apply_tree(log, parameters={alpha_miner.Parameters.ACTIVITY_KEY: 'url'})\n",
    "gviz = pt_visualizer.apply(tree)\n",
    "pt_visualizer.view(gviz)"
   ]
  },
  {
   "cell_type": "code",
   "execution_count": null,
   "id": "4e8d8a0e",
   "metadata": {
    "scrolled": true
   },
   "outputs": [],
   "source": [
    "net, initial_marking, final_marking = pt_converter.apply(tree, variant=pt_converter.Variants.TO_PETRI_NET)\n",
    "gviz = pn_visualizer.apply(net, initial_marking, final_marking)\n",
    "pn_visualizer.view(gviz)"
   ]
  },
  {
   "cell_type": "code",
   "execution_count": null,
   "id": "69b11264",
   "metadata": {
    "scrolled": true
   },
   "outputs": [],
   "source": [
    "heu_net = heuristics_miner.apply_heu(log, parameters={heuristics_miner.Variants.CLASSIC.value.Parameters.DEPENDENCY_THRESH: .00005,\n",
    "                                                     heuristics_miner.Variants.CLASSIC.value.Parameters.ACTIVITY_KEY: 'url'})\n",
    "gviz = hn_visualizer.apply(heu_net)\n",
    "hn_visualizer.view(gviz)"
   ]
  },
  {
   "cell_type": "code",
   "execution_count": null,
   "id": "d3deac49",
   "metadata": {},
   "outputs": [],
   "source": [
    "import retentioneering\n",
    "\n",
    "# load sample user behavior data as a pandas dataframe: \n",
    "data = events_last_3m\n",
    "\n",
    "# update config to pass columns names:\n",
    "retentioneering.config.update({\n",
    "    'user_col': 'session_id',\n",
    "    'event_col':'url',\n",
    "    'event_time_col':'event_time',\n",
    "})"
   ]
  },
  {
   "cell_type": "code",
   "execution_count": null,
   "id": "963bb5e5",
   "metadata": {},
   "outputs": [],
   "source": [
    "data.head()"
   ]
  },
  {
   "cell_type": "code",
   "execution_count": null,
   "id": "ca0fb760",
   "metadata": {},
   "outputs": [],
   "source": [
    "data.rete.plot_graph(norm_type='node',\n",
    "                     weight_col='session_id',\n",
    "                     thresh=0.2,\n",
    "                     targets = {'add_to_basket':'green',\n",
    "                                'lost':'red'})"
   ]
  },
  {
   "cell_type": "code",
   "execution_count": null,
   "id": "b5a78df1",
   "metadata": {},
   "outputs": [],
   "source": []
  },
  {
   "cell_type": "code",
   "execution_count": null,
   "id": "52048ba9",
   "metadata": {},
   "outputs": [],
   "source": []
  },
  {
   "cell_type": "code",
   "execution_count": null,
   "id": "a3865f63",
   "metadata": {},
   "outputs": [],
   "source": []
  },
  {
   "cell_type": "markdown",
   "id": "737da0c9",
   "metadata": {},
   "source": [
    "---------------"
   ]
  },
  {
   "cell_type": "code",
   "execution_count": null,
   "id": "7d28d8f1",
   "metadata": {},
   "outputs": [],
   "source": [
    "global_data = {}\n",
    "mark_data = {}\n",
    "global_list = []\n",
    "def mark_by_session(df):\n",
    "    temp_data = {}\n",
    "    df = df.sort_values(by=['event_time'])\n",
    "    if 'add_to_basket' in df['name'].unique():\n",
    "        atb_happened = 1\n",
    "    else:\n",
    "        atb_happened = 0\n",
    "    for i_r, ((i1, row1), (i2, row2)) in enumerate(pairwise(df.iterrows())):\n",
    "        if row1['name'] == 'add_to_basket' or row2['name'] == 'add_to_basket':\n",
    "            return\n",
    "        if i_r == 0:\n",
    "            left_data = row1['channel']\n",
    "            right_data = row1['url']\n",
    "            source_targer_key = f\"{left_data}=>{right_data}\"\n",
    "            temp_data[source_targer_key] = {}\n",
    "            temp_data[source_targer_key]['count'] = 1\n",
    "            temp_data[source_targer_key]['atb'] = atb_happened\n",
    "            global_list.append(temp_data)\n",
    "            add_to_global_data(global_data, source_targer_key,atb_happened)\n",
    "        left_data = row1['url']\n",
    "        right_data = row2['url']\n",
    "        if left_data == right_data:\n",
    "            continue\n",
    "        source_targer_key = f\"{left_data}=>{right_data}\"\n",
    "        temp_data[source_targer_key] = {}\n",
    "        temp_data[source_targer_key]['count'] = 1\n",
    "        temp_data[source_targer_key]['atb'] = atb_happened\n",
    "        global_list.append(temp_data)\n",
    "        add_to_global_data(global_data, source_targer_key,atb_happened)\n",
    "        \n",
    "        \n",
    "def purchase_path(df,global_data):\n",
    "    df.groupby('session_id').apply(mark_by_session)\n",
    "events_last_3m.groupby('guest_id').apply(purchase_path,global_data)"
   ]
  },
  {
   "cell_type": "code",
   "execution_count": null,
   "id": "4bfc1525",
   "metadata": {},
   "outputs": [],
   "source": [
    "global_data"
   ]
  },
  {
   "cell_type": "code",
   "execution_count": null,
   "id": "411310cf",
   "metadata": {},
   "outputs": [],
   "source": [
    "data_plot = unfold_dict_to_dataframe_multiplt(global_data)"
   ]
  },
  {
   "cell_type": "code",
   "execution_count": null,
   "id": "4920e5ad",
   "metadata": {},
   "outputs": [],
   "source": [
    "data_plot['ratio'] = data_plot['atb'] / data_plot['count'] "
   ]
  },
  {
   "cell_type": "code",
   "execution_count": null,
   "id": "943238dc",
   "metadata": {
    "scrolled": true
   },
   "outputs": [],
   "source": [
    "data_plot.sort_values(by=['ratio'],ascending=False)"
   ]
  },
  {
   "cell_type": "code",
   "execution_count": null,
   "id": "27f1d512",
   "metadata": {},
   "outputs": [],
   "source": [
    "data_plot.ratio.quantile(0.9)"
   ]
  },
  {
   "cell_type": "code",
   "execution_count": null,
   "id": "df606168",
   "metadata": {},
   "outputs": [],
   "source": [
    "data_plot.ratio.quantile(0.1)"
   ]
  },
  {
   "cell_type": "code",
   "execution_count": null,
   "id": "f6afe68e",
   "metadata": {},
   "outputs": [],
   "source": [
    "import plotly.express as px\n",
    "fig = px.histogram(data_plot.ratio)\n",
    "fig.show()"
   ]
  },
  {
   "cell_type": "code",
   "execution_count": null,
   "id": "65e73bbc",
   "metadata": {},
   "outputs": [],
   "source": [
    "d = data_plot[(data_plot['count'] > 25) & (data_plot.ratio > 0.1)]"
   ]
  },
  {
   "cell_type": "code",
   "execution_count": null,
   "id": "bc52f26a",
   "metadata": {},
   "outputs": [],
   "source": [
    "d"
   ]
  },
  {
   "cell_type": "code",
   "execution_count": null,
   "id": "99956775",
   "metadata": {},
   "outputs": [],
   "source": [
    "d['count_rescaled'] = rescale(d['count'])"
   ]
  },
  {
   "cell_type": "code",
   "execution_count": null,
   "id": "00907d60",
   "metadata": {},
   "outputs": [],
   "source": [
    "global_data = {}#m.dict()\n",
    "first_data = {}\n",
    "last_data = {}\n",
    "last_names = []\n",
    "\n",
    "def norm(df):\n",
    "    return df['event_data'].__str__().lower()\n",
    "\n",
    "def a(df,global_data):\n",
    "    df = df.sort_values(by=['event_time'])\n",
    "    for i_r, ((i1, row1), (i2, row2)) in enumerate(pairwise(df.iterrows())):\n",
    "#         print(i_r)\n",
    "#         print(row1['name'],row1['event_data_innerText'], row1['event_data_name'])\n",
    "#         print(row2['name'],row2['event_data_innerText'],row2['event_data_name'])\n",
    "        name_left = row1['name']\n",
    "        name_right = row2['name']\n",
    "        left_data_name = '_' + row1['event_data_name'] if row1['event_data_name'] != '' else ''\n",
    "        right_data_name = '_' + row2['event_data_name'] if row2['event_data_name'] != '' else ''\n",
    "        left_data_text = '_' + row1['event_data_innerText'] if row1['event_data_innerText'] != '' else ''\n",
    "        right_data_text = '_' + row2['event_data_innerText'] if row2['event_data_innerText'] != '' else ''\n",
    "        \n",
    "            \n",
    "                        \n",
    "        left_data = left_data_name #+ left_data_text\n",
    "        right_data = right_data_name #+ right_data_text\n",
    "        \n",
    "        if name_left =='link_click':\n",
    "            left_data =row1['event_data_url'] if row1['event_data_url'] else '_Other'\n",
    "            if left_data != \"_Other\":\n",
    "                temp = left_data.split('#')\n",
    "                if len(temp) > 1 :\n",
    "                    if len(temp[1]) !=0:\n",
    "                        left_data = '_' + temp[1]\n",
    "                    else:\n",
    "                        left_data = '_Other'\n",
    "                \n",
    "                else:\n",
    "                    temp = left_data.split('/')\n",
    "                    if len(temp) !=3:\n",
    "                        left_data = '_' + '/'.join(temp[3:5])\n",
    "                \n",
    "                \n",
    "\n",
    "        if name_right =='link_click':\n",
    "            right_data =row2['event_data_url'] if row2['event_data_url'] else '_Other'\n",
    "            if right_data != \"_Other\":\n",
    "                temp = right_data.split('#')\n",
    "\n",
    "                if len(temp) > 1:\n",
    "                    if len(temp[1]) !=0 :\n",
    "                        right_data = '_' + temp[1]\n",
    "                    else:\n",
    "                        right_data ='_Other'\n",
    "                    \n",
    "                else:\n",
    "                    temp = right_data.split('/')\n",
    "                    if len(temp) !=3:\n",
    "                        right_data = '_' + '/'.join(temp[3:5])\n",
    "                        \n",
    "        if i_r == 1:\n",
    "#             source_targer_key = f\"{row1['channel']}=>{name_left}{right_data}\"\n",
    "#             add_to_global_data(global_data, source_targer_key)\n",
    "            source_targer_key = f\"{name_left}{left_data}=>{name_right}{right_data}\"\n",
    "            add_to_global_data(global_data, source_targer_key)\n",
    "#             print(source_targer_key)\n",
    "            source_targer_key = f\"prev_page_{row1['referer']}=>{name_left}{left_data}\"\n",
    "            add_to_global_data(global_data, source_targer_key)\n",
    "        else:\n",
    "\n",
    "            if 'pirkti' in norm(row2) and row2['name'] == 'button_click':\n",
    "                source_targer_key = f\"{name_left}{left_data}=>pirkti\"\n",
    "                \n",
    "                add_to_global_data(global_data, source_targer_key)\n",
    "                break\n",
    "                \n",
    "                \n",
    "            else: #all((left_data_name,right_data_name)):\n",
    "                source_targer_key = f\"{name_left}{left_data}=>{name_right}{right_data}\"\n",
    "#                 print(source_targer_key)\n",
    "                add_to_global_data(global_data, source_targer_key)\n",
    "                \n",
    "        if i_r + 2 == df.shape[0]:\n",
    "            source_targer_key = f\"{name_right}{right_data}=>END_EVENT\"\n",
    "            add_to_global_data(global_data, source_targer_key)\n",
    "            \n",
    "based_events.groupby('session_id').apply(a, global_data)\n",
    "len(global_data.keys())"
   ]
  },
  {
   "cell_type": "code",
   "execution_count": null,
   "id": "0e47ddce",
   "metadata": {},
   "outputs": [],
   "source": [
    "data_plot = unfold_dict_to_dataframe_multiplt(global_data)"
   ]
  },
  {
   "cell_type": "code",
   "execution_count": null,
   "id": "f3efb0ba",
   "metadata": {},
   "outputs": [],
   "source": [
    "data_plot['ratio'] = data_plot['atb'] / data_plot['count'] "
   ]
  },
  {
   "cell_type": "code",
   "execution_count": null,
   "id": "a73e3144",
   "metadata": {},
   "outputs": [],
   "source": [
    "data_plot.info()"
   ]
  },
  {
   "cell_type": "code",
   "execution_count": null,
   "id": "f3c65100",
   "metadata": {},
   "outputs": [],
   "source": [
    "data_plot['engagments_f'] = data_plot.engagments"
   ]
  },
  {
   "cell_type": "code",
   "execution_count": null,
   "id": "c5fd3361",
   "metadata": {},
   "outputs": [],
   "source": []
  }
 ],
 "metadata": {
  "kernelspec": {
   "display_name": "Python 3 (ipykernel)",
   "language": "python",
   "name": "python3"
  },
  "language_info": {
   "codemirror_mode": {
    "name": "ipython",
    "version": 3
   },
   "file_extension": ".py",
   "mimetype": "text/x-python",
   "name": "python",
   "nbconvert_exporter": "python",
   "pygments_lexer": "ipython3",
   "version": "3.8.8"
  }
 },
 "nbformat": 4,
 "nbformat_minor": 5
}
